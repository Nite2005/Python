{
 "cells": [
  {
   "cell_type": "code",
   "execution_count": null,
   "id": "850f9104",
   "metadata": {},
   "outputs": [
    {
     "name": "stdout",
     "output_type": "stream",
     "text": [
      "Total length of the string 17\n",
      "17\n"
     ]
    }
   ],
   "source": [
    "#Find the length of a given string without using the len() function\n",
    "\n",
    "s = \"My name is nitesh\"\n",
    "\n",
    "counter = 0\n",
    "\n",
    "for i in s:\n",
    "    counter=counter +1\n",
    "\n",
    "print(\"Total length of the string\",counter)"
   ]
  },
  {
   "cell_type": "code",
   "execution_count": 7,
   "id": "9b58c6a8",
   "metadata": {},
   "outputs": [
    {
     "name": "stdout",
     "output_type": "stream",
     "text": [
      "kumar233\n"
     ]
    }
   ],
   "source": [
    "#Extract username from a given email.\n",
    "#Eg if the email is nitish24singh@gmail.com\n",
    "#then the username should be nitish24singh\n",
    "\n",
    "email = input(\"Enter the email \")\n",
    "\n",
    "# result=\"\"\n",
    "\n",
    "# for i in email:\n",
    "#     if i=='@':\n",
    "#         break\n",
    "#     else:\n",
    "#         result = result + i\n",
    "\n",
    "# print(\"username is : \",result)\n",
    "\n",
    "pos = email.index('@')\n",
    "print(email[:pos])\n",
    "\n"
   ]
  },
  {
   "cell_type": "code",
   "execution_count": null,
   "id": "44b2bf9b",
   "metadata": {},
   "outputs": [],
   "source": []
  }
 ],
 "metadata": {
  "kernelspec": {
   "display_name": "Python 3",
   "language": "python",
   "name": "python3"
  },
  "language_info": {
   "codemirror_mode": {
    "name": "ipython",
    "version": 3
   },
   "file_extension": ".py",
   "mimetype": "text/x-python",
   "name": "python",
   "nbconvert_exporter": "python",
   "pygments_lexer": "ipython3",
   "version": "3.9.10"
  }
 },
 "nbformat": 4,
 "nbformat_minor": 5
}
