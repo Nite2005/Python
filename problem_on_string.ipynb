{
 "cells": [
  {
   "cell_type": "code",
   "execution_count": null,
   "id": "850f9104",
   "metadata": {},
   "outputs": [
    {
     "name": "stdout",
     "output_type": "stream",
     "text": [
      "Total length of the string 17\n",
      "17\n"
     ]
    }
   ],
   "source": [
    "#Find the length of a given string without using the len() function\n",
    "\n",
    "s = \"My name is nitesh\"\n",
    "\n",
    "counter = 0\n",
    "\n",
    "for i in s:\n",
    "    counter=counter +1\n",
    "\n",
    "print(\"Total length of the string\",counter)"
   ]
  },
  {
   "cell_type": "code",
   "execution_count": 7,
   "id": "9b58c6a8",
   "metadata": {},
   "outputs": [
    {
     "name": "stdout",
     "output_type": "stream",
     "text": [
      "kumar233\n"
     ]
    }
   ],
   "source": [
    "#Extract username from a given email.\n",
    "#Eg if the email is nitish24singh@gmail.com\n",
    "#then the username should be nitish24singh\n",
    "\n",
    "email = input(\"Enter the email \")\n",
    "\n",
    "# result=\"\"\n",
    "\n",
    "# for i in email:\n",
    "#     if i=='@':\n",
    "#         break\n",
    "#     else:\n",
    "#         result = result + i\n",
    "\n",
    "# print(\"username is : \",result)\n",
    "\n",
    "pos = email.index('@')\n",
    "print(email[:pos])\n",
    "\n"
   ]
  },
  {
   "cell_type": "code",
   "execution_count": 10,
   "id": "44b2bf9b",
   "metadata": {},
   "outputs": [
    {
     "name": "stdout",
     "output_type": "stream",
     "text": [
      "the frequency of a in the string abacaaaa is:6 \n"
     ]
    }
   ],
   "source": [
    "#count the frequency of a particular character in a provided string.ipynb\n",
    "# Eg, 'hello how are you' is the string, the frequency of h in this string is 2\n",
    "\n",
    "\n",
    "s = input('Enter the string')\n",
    "char_s = input('Enter which char frequenyc u want to know')\n",
    "\n",
    "# s.count(char_s)\n",
    "counter= 0\n",
    "for i in s:\n",
    "    if i==char_s :\n",
    "        counter = counter + 1\n",
    "    \n",
    "print(\"the frequency of {} in the string {} is:{} \".format(char_s,s,counter))"
   ]
  },
  {
   "cell_type": "code",
   "execution_count": 15,
   "id": "e99f554a",
   "metadata": {},
   "outputs": [
    {
     "name": "stdout",
     "output_type": "stream",
     "text": [
      "h\n"
     ]
    }
   ],
   "source": [
    "# write a program which can remove a particular character from a string \n",
    "\n",
    "s = input(\"Enter string\")\n",
    "term = input(\"What would u like to remove \")\n",
    "\n",
    "new_s = \"\"\n",
    "\n",
    "for i in s:\n",
    "    if i==term:\n",
    "        continue\n",
    "    else:\n",
    "       new_s = new_s + i\n",
    "\n",
    "print(new_s)"
   ]
  },
  {
   "cell_type": "code",
   "execution_count": 22,
   "id": "1e7f40b5",
   "metadata": {},
   "outputs": [
    {
     "name": "stdout",
     "output_type": "stream",
     "text": [
      "abba,It is pallindrome\n"
     ]
    }
   ],
   "source": [
    "#write a program that can check whether a given string is pallindrome or not\n",
    "\n",
    "s = input(\"Enter the string\")\n",
    "\n",
    "# new_s = \"\"\n",
    "\n",
    "# for i in s[::-1]:\n",
    "#     new_s = new_s + i\n",
    "\n",
    "# if new_s == s:\n",
    "#     print(\"{},It is pallindrome\".format(s))\n",
    "\n",
    "# else:\n",
    "#     print(\"{} , It is not pallindrome\".format(s))\n",
    "\n",
    "flag =0\n",
    "for i in range(0,len(s)//2):\n",
    "    if s[i]!=s[len(s)-i-1]:\n",
    "        flag = 1\n",
    "        break\n",
    "\n",
    "if flag == 0:\n",
    "    print(\"{},It is pallindrome\".format(s))\n",
    "else:\n",
    "    print(\"{} , It is not pallindrome\".format(s))\n",
    "\n"
   ]
  },
  {
   "cell_type": "code",
   "execution_count": 30,
   "id": "be508a9a",
   "metadata": {},
   "outputs": [
    {
     "name": "stdout",
     "output_type": "stream",
     "text": [
      "3\n",
      "words ['how', 'are', 'you']\n"
     ]
    }
   ],
   "source": [
    "# write a program to count the number of words in a string without split()\n",
    "\n",
    "s = input(\"Enter a string\")\n",
    "# counter = 1\n",
    "# for i in s:\n",
    "#     if i==\" \":\n",
    "#         counter+=1\n",
    "\n",
    "L = []\n",
    "temp = \"\"\n",
    "for i in s:\n",
    "    if i != \" \":\n",
    "        temp = temp + i\n",
    "    else:\n",
    "        L.append(temp)\n",
    "        temp = \"\"\n",
    "\n",
    "L.append(temp)\n",
    "print(len(L))\n",
    "print(\"words\",L)"
   ]
  },
  {
   "cell_type": "code",
   "execution_count": 36,
   "id": "806873cd",
   "metadata": {},
   "outputs": [
    {
     "name": "stdout",
     "output_type": "stream",
     "text": [
      "How Are You\n"
     ]
    }
   ],
   "source": [
    "#write a python program to convert a string to title case without using the title()\n",
    "\n",
    "\n",
    "s = input(\"enter the string\")\n",
    "L = []\n",
    "for i in s.split():\n",
    "    L.append(i[0].upper() + i[1:].lower())\n",
    "\n",
    "print(\" \".join(L))\n"
   ]
  },
  {
   "cell_type": "code",
   "execution_count": 42,
   "id": "981659a3",
   "metadata": {},
   "outputs": [
    {
     "name": "stdout",
     "output_type": "stream",
     "text": [
      "9393\n"
     ]
    },
    {
     "data": {
      "text/plain": [
       "str"
      ]
     },
     "execution_count": 42,
     "metadata": {},
     "output_type": "execute_result"
    }
   ],
   "source": [
    "# write a program to convert an integer to string\n",
    "\n",
    "number = int(input(\"Enter an integer\"))\n",
    "\n",
    "digits = '0123456789'\n",
    "temp = \"\"\n",
    "while(number>0):\n",
    "    temp = temp + digits[number%10]\n",
    "    number= number//10\n",
    "\n",
    "print(temp)\n",
    "type(temp)\n"
   ]
  },
  {
   "cell_type": "code",
   "execution_count": null,
   "id": "ba674bff",
   "metadata": {},
   "outputs": [],
   "source": []
  }
 ],
 "metadata": {
  "kernelspec": {
   "display_name": "Python 3",
   "language": "python",
   "name": "python3"
  },
  "language_info": {
   "codemirror_mode": {
    "name": "ipython",
    "version": 3
   },
   "file_extension": ".py",
   "mimetype": "text/x-python",
   "name": "python",
   "nbconvert_exporter": "python",
   "pygments_lexer": "ipython3",
   "version": "3.9.10"
  }
 },
 "nbformat": 4,
 "nbformat_minor": 5
}
