{
 "cells": [
  {
   "cell_type": "code",
   "execution_count": 1,
   "id": "2e6210ed",
   "metadata": {},
   "outputs": [],
   "source": [
    "class Inventory:\n",
    "     \n",
    "    def __init__(self):\n",
    "        self.products = {}\n",
    "    \n",
    "    def add_products(self,product_name,product_quantity):\n",
    "        if product_name in self.products:\n",
    "            self.products[product_name]+=product_quantity\n",
    "\n",
    "        else:\n",
    "            self.products[product_name] = product_quantity\n",
    "\n",
    "    def remove_product(self,product_name,product_quantity):\n",
    "        if product_name in self.products:\n",
    "            if self.products[product_name] <= product_quantity:\n",
    "                del self.products[product_name]\n",
    "                print(f\"{product_name} removed from inventory\")\n",
    "            else:\n",
    "                self.products[product_name] -= product_quantity\n",
    "        \n",
    "        else:\n",
    "            print(f\"{product_name} not found in inventory\")\n",
    "\n",
    "    def get_stock(self,product_name):\n",
    "        return self.products[product_name].value\n",
    "    \n",
    "    def show_inventory(self):\n",
    "\n",
    "        if not self.products:\n",
    "            print(\"Inventory is empty\")\n",
    "        \n",
    "        else:\n",
    "            print(\"current Inventory:\")\n",
    "            for product_name,product_quantity in self.products.items():\n",
    "                print(f\"{product_name}:{product_quantity}\")\n",
    "\n",
    "    def __str__(self):\n",
    "        return f\"Inventory({self.products})\"\n"
   ]
  },
  {
   "cell_type": "code",
   "execution_count": 2,
   "id": "1054eeb5",
   "metadata": {},
   "outputs": [
    {
     "name": "stdout",
     "output_type": "stream",
     "text": [
      "current Inventory:\n",
      "apple:43\n"
     ]
    }
   ],
   "source": [
    "inv = Inventory()\n",
    "\n",
    "inv.add_products(\"apple\",43)\n",
    "inv.show_inventory()"
   ]
  },
  {
   "cell_type": "code",
   "execution_count": 3,
   "id": "b1a325f5",
   "metadata": {},
   "outputs": [
    {
     "name": "stdout",
     "output_type": "stream",
     "text": [
      "Dog\n",
      "cat\n"
     ]
    }
   ],
   "source": [
    "class Animal:\n",
    "    def __init__(self,name):\n",
    "        self.name = name\n",
    "    \n",
    "    def speak(self):\n",
    "        return \"speak\"\n",
    "    \n",
    "    def __str__(self):\n",
    "        return f\"Animal({self.name})\"\n",
    "    \n",
    "\n",
    "class Dog(Animal):\n",
    "    def speak(self):\n",
    "        return \"Dog\"\n",
    "\n",
    "class cat(Animal):\n",
    "    def speak(self):\n",
    "        return \"cat\"\n",
    "    \n",
    "\n",
    "dog = Dog(\"Tommy\")\n",
    "cat = cat(\"simba\")\n",
    "\n",
    "print(dog.speak())\n",
    "print(cat.speak())\n"
   ]
  },
  {
   "cell_type": "markdown",
   "id": "ddcdb16b",
   "metadata": {},
   "source": [
    "## Encapsulation\n"
   ]
  },
  {
   "cell_type": "code",
   "execution_count": 12,
   "id": "3e18c158",
   "metadata": {},
   "outputs": [],
   "source": [
    "class car:\n",
    "\n",
    "    def __init__(self,name,model,speed,date):\n",
    "        self.name = name\n",
    "        self.__model = model ## Private\n",
    "        self.__speed = speed ## Private\n",
    "        self._date = date\n",
    "\n",
    "    def accelerate(self):\n",
    "        self.__speed = self.__speed + 10\n",
    "    \n",
    "    def brake(self):\n",
    "        self.__speed = self.__speed-10\n",
    "\n",
    "    def get_speed(self):\n",
    "        return self.__speed\n",
    "    \n",
    "    def get_model(self):\n",
    "        return self.__model\n",
    "    \n",
    "    def get_manufacture_date(self):\n",
    "        return self._date\n",
    "    \n"
   ]
  },
  {
   "cell_type": "code",
   "execution_count": 20,
   "id": "3c8df25c",
   "metadata": {},
   "outputs": [
    {
     "name": "stdout",
     "output_type": "stream",
     "text": [
      "24\n",
      "tesla v1\n",
      "10.203.2020\n"
     ]
    },
    {
     "data": {
      "text/plain": [
       "'10.203.2020'"
      ]
     },
     "execution_count": 20,
     "metadata": {},
     "output_type": "execute_result"
    }
   ],
   "source": [
    "c = car(\"Tesla car\",\"tesla v1\",24,\"10.203.2020\")\n",
    "print(c.get_speed())\n",
    "print(c.get_model())\n",
    "print(c.get_manufacture_date())\n",
    "\n",
    "c._date"
   ]
  },
  {
   "cell_type": "markdown",
   "id": "9479e7a0",
   "metadata": {},
   "source": [
    "## Abstract class"
   ]
  },
  {
   "cell_type": "code",
   "execution_count": 22,
   "id": "63380278",
   "metadata": {},
   "outputs": [
    {
     "data": {
      "text/plain": [
       "'Woof'"
      ]
     },
     "execution_count": 22,
     "metadata": {},
     "output_type": "execute_result"
    }
   ],
   "source": [
    "from abc import ABC,abstractmethod\n",
    "\n",
    "class Animal(ABC):\n",
    "\n",
    "    @abstractmethod\n",
    "    def make_sound(self):\n",
    "        pass\n",
    "\n",
    "class Dog(Animal):\n",
    "    def make_sound(self):\n",
    "        return \"Woof\"\n",
    "    \n",
    "class Cat(Animal):\n",
    "    def make_sound(self):\n",
    "        return \"Meow\"\n",
    "    \n",
    "\n",
    "d = Dog()\n",
    "\n",
    "d.make_sound()"
   ]
  },
  {
   "cell_type": "code",
   "execution_count": 23,
   "id": "991e6602",
   "metadata": {},
   "outputs": [
    {
     "name": "stdout",
     "output_type": "stream",
     "text": [
      "Printing...\n",
      "Scanning...\n"
     ]
    }
   ],
   "source": [
    "class Printer(ABC):\n",
    "    @abstractmethod\n",
    "    def print(self):\n",
    "        pass\n",
    "\n",
    "class Scanner(ABC):\n",
    "    @abstractmethod\n",
    "    def scan(self):\n",
    "        pass\n",
    "\n",
    "class AllInOne(Printer, Scanner):\n",
    "    def print(self):\n",
    "        print(\"Printing...\")\n",
    "\n",
    "    def scan(self):\n",
    "        print(\"Scanning...\")\n",
    "\n",
    "aio = AllInOne()\n",
    "aio.print()\n",
    "aio.scan()\n"
   ]
  },
  {
   "cell_type": "code",
   "execution_count": 24,
   "id": "a45489e4",
   "metadata": {},
   "outputs": [
    {
     "name": "stdout",
     "output_type": "stream",
     "text": [
      "All shapes have area\n",
      "78.5\n"
     ]
    }
   ],
   "source": [
    "from abc import ABC, abstractmethod\n",
    "\n",
    "class Shape(ABC):\n",
    "    \n",
    "    def common_behavior(self):\n",
    "        print(\"All shapes have area\")\n",
    "    \n",
    "    @abstractmethod\n",
    "    def area(self):\n",
    "        pass\n",
    "\n",
    "class Circle(Shape):\n",
    "    def __init__(self, radius):\n",
    "        self.radius = radius\n",
    "\n",
    "    def area(self):\n",
    "        return 3.14 * self.radius ** 2\n",
    "\n",
    "c = Circle(5)\n",
    "c.common_behavior()         # ✅ Common method\n",
    "print(c.area())             # ✅ Implemented method\n"
   ]
  },
  {
   "cell_type": "code",
   "execution_count": 25,
   "id": "7f4a8bde",
   "metadata": {},
   "outputs": [],
   "source": [
    "class aaa:\n",
    "\n",
    "    def sound(self):\n",
    "        return \"hi sound class called\" \n",
    "    "
   ]
  },
  {
   "cell_type": "code",
   "execution_count": 26,
   "id": "0bc03c4f",
   "metadata": {},
   "outputs": [],
   "source": [
    "a = aaa()"
   ]
  },
  {
   "cell_type": "code",
   "execution_count": 27,
   "id": "2316ecc5",
   "metadata": {},
   "outputs": [
    {
     "data": {
      "text/plain": [
       "'hi sound class called'"
      ]
     },
     "execution_count": 27,
     "metadata": {},
     "output_type": "execute_result"
    }
   ],
   "source": [
    "a.sound()"
   ]
  },
  {
   "cell_type": "code",
   "execution_count": 28,
   "id": "7341b07e",
   "metadata": {},
   "outputs": [
    {
     "name": "stdout",
     "output_type": "stream",
     "text": [
      "Function se pehle kaam\n",
      "Hello!\n",
      "Function ke baad kaam\n"
     ]
    }
   ],
   "source": [
    "def my_decorator(func):\n",
    "    def wrapper():\n",
    "        print(\"Function se pehle kaam\")\n",
    "        func()\n",
    "        print(\"Function ke baad kaam\")\n",
    "    return wrapper\n",
    "\n",
    "@my_decorator\n",
    "def say_hello():\n",
    "    print(\"Hello!\")\n",
    "\n",
    "say_hello()\n"
   ]
  },
  {
   "cell_type": "code",
   "execution_count": 29,
   "id": "d267ce9d",
   "metadata": {},
   "outputs": [
    {
     "name": "stdout",
     "output_type": "stream",
     "text": [
      "Rahul\n"
     ]
    }
   ],
   "source": [
    "class Person:\n",
    "    def __init__(self, name):\n",
    "        self._name = name\n",
    "\n",
    "    @property\n",
    "    def name(self):\n",
    "        return self._name\n",
    "\n",
    "p = Person(\"Rahul\")\n",
    "print(p.name)  # p.name() nahi likhna, direct attribute ki tarah use"
   ]
  },
  {
   "cell_type": "code",
   "execution_count": 30,
   "id": "50e8acce",
   "metadata": {},
   "outputs": [
    {
     "name": "stdout",
     "output_type": "stream",
     "text": [
      "I am a class method\n",
      "Class variable: 0\n",
      "I am a class method\n",
      "Class variable: 0\n"
     ]
    }
   ],
   "source": [
    "# A @classmethod is a method that receives the class itself as the first argument, not the instance.\n",
    "\n",
    "# It uses cls (convention) instead of self\n",
    "\n",
    "# Can access or modify class-level attributes or create class-level logic\n",
    "\n",
    "\n",
    "\n",
    "\n",
    "\n",
    "class MyClass:\n",
    "    class_variable = 0\n",
    "\n",
    "    @classmethod\n",
    "    def my_class_method(cls):\n",
    "        print(\"I am a class method\")\n",
    "        print(\"Class variable:\", cls.class_variable)\n",
    "\n",
    "#first method of calling\n",
    "MyClass.my_class_method()\n",
    "\n",
    "#second method of calling \n",
    "obj = MyClass()\n",
    "obj.my_class_method()  # ✅ Still works"
   ]
  },
  {
   "cell_type": "code",
   "execution_count": null,
   "id": "6a3919a1",
   "metadata": {},
   "outputs": [],
   "source": [
    "# ## static method\n",
    "# @staticmethod ek method decorator hai jo class ke andar likha jata hai lekin class ya object (instance) se koi lena dena nahi hota.\n",
    "# Matlab:\n",
    "\n",
    "# Na self chahiye\n",
    "\n",
    "# Na cls chahiye\n",
    "\n",
    "# Sirf class ke andar logically related utility function banane ke liye use hota hai.\n",
    "\n",
    "# 🧠 Kab use karte hain?\n",
    "# Jab aapko aisa function banana ho jo kisi specific object ya class variable se related na ho, lekin class ke context mein hi useful ho.\n",
    "\n",
    "# Example: conversion function, validation function, math calculation, etc.\n",
    "\n",
    "\n",
    "\n",
    "\n",
    "class MathUtils:\n",
    "    \n",
    "    @staticmethod\n",
    "    def add(x, y):\n",
    "        return x + y\n",
    "    \n",
    "\n",
    "print(MathUtils.add(5, 3))  # ✅ 8\n",
    "\n",
    "m = MathUtils()\n",
    "print(m.add(2, 4))          # ✅ 6 (object se bhi call kar sakte ho)\n",
    "\n",
    "\n",
    "\n",
    "# No self or cls parameter.\n",
    "\n",
    "# Koi class ya instance variable access nahi kar sakte."
   ]
  },
  {
   "cell_type": "markdown",
   "id": "cd68d45a",
   "metadata": {},
   "source": [
    "## Types of Polymorphism in Python (or OOP in general):\n",
    "* Type\tDescription\tExample\n",
    "* 1. Compile-time Polymorphism (Static Polymorphism)\tMethod Overloading\tNot directly supported in Python\n",
    "* 2. Run-time Polymorphism (Dynamic Polymorphism)\tMethod Overriding\tSupported in Python\n",
    "* 3. Operator Overloading\tRedefining how operators like +, * work for custom objects\tSupported\n",
    "* 4. Duck Typing (Python Specific)\tIf it \"quacks like a duck\", treat it like a duck\tSupported\n"
   ]
  },
  {
   "cell_type": "markdown",
   "id": "bf5adc9f",
   "metadata": {},
   "source": [
    "## Method Overloading "
   ]
  },
  {
   "cell_type": "code",
   "execution_count": 35,
   "id": "7666b952",
   "metadata": {},
   "outputs": [
    {
     "name": "stdout",
     "output_type": "stream",
     "text": [
      "2\n",
      "5\n",
      "9\n"
     ]
    }
   ],
   "source": [
    "class Calculator:\n",
    "    def add(self, a, b=0, c=0):\n",
    "        return a + b + c\n",
    "\n",
    "calc = Calculator()\n",
    "print(calc.add(2))       # 2\n",
    "print(calc.add(2, 3))    # 5\n",
    "print(calc.add(2, 3, 4)) # 9\n"
   ]
  },
  {
   "cell_type": "markdown",
   "id": "7057f58a",
   "metadata": {},
   "source": [
    "## Method Overriding"
   ]
  },
  {
   "cell_type": "code",
   "execution_count": 36,
   "id": "2d4e6763",
   "metadata": {},
   "outputs": [
    {
     "name": "stdout",
     "output_type": "stream",
     "text": [
      "Dog barks\n",
      "Cat meows\n",
      "Animal speaks\n"
     ]
    }
   ],
   "source": [
    "class Animal:\n",
    "    def speak(self):\n",
    "        print(\"Animal speaks\")\n",
    "\n",
    "class Dog(Animal):\n",
    "    def speak(self):\n",
    "        print(\"Dog barks\")\n",
    "\n",
    "class Cat(Animal):\n",
    "    def speak(self):\n",
    "        print(\"Cat meows\")\n",
    "\n",
    "animals = [Dog(), Cat(), Animal()]\n",
    "\n",
    "for a in animals:\n",
    "    a.speak()\n"
   ]
  },
  {
   "cell_type": "markdown",
   "id": "42b83fed",
   "metadata": {},
   "source": [
    "## Operator Overloading"
   ]
  },
  {
   "cell_type": "code",
   "execution_count": 34,
   "id": "d8d37353",
   "metadata": {},
   "outputs": [
    {
     "name": "stdout",
     "output_type": "stream",
     "text": [
      "4 6\n"
     ]
    }
   ],
   "source": [
    "class Vector:\n",
    "    def __init__(self, x, y):\n",
    "        self.x = x\n",
    "        self.y = y\n",
    "\n",
    "    def __add__(self, other):\n",
    "        return Vector(self.x + other.x, self.y + other.y)\n",
    "\n",
    "    # def __str__(self):\n",
    "    #     return f\"({self.x}, {self.y})\"\n",
    "\n",
    "v1 = Vector(1, 2)\n",
    "v2 = Vector(3, 4)\n",
    "v3 = v1 + v2  # Internally calls v1.__add__(v2)\n",
    "\n",
    "print(v3.x,v3.y)     # Output: (4, 6)\n",
    "\n"
   ]
  },
  {
   "cell_type": "markdown",
   "id": "b1989731",
   "metadata": {},
   "source": [
    "## Duck Typing\n",
    "\n",
    "* 🔍 4. Duck Typing (Python-Specific Polymorphism)\n",
    "“If it walks like a duck and quacks like a duck, it must be a duck.”\n",
    "\n",
    "Python is dynamically typed. It focuses on behavior rather than the type of object."
   ]
  },
  {
   "cell_type": "code",
   "execution_count": null,
   "id": "bbd38d52",
   "metadata": {},
   "outputs": [],
   "source": [
    "class Duck:\n",
    "    def sound(self):\n",
    "        print(\"Quack\")\n",
    "\n",
    "class Dog:\n",
    "    def sound(self):\n",
    "        print(\"Bark\")\n",
    "\n",
    "def make_sound(animal):\n",
    "    animal.sound()\n",
    "\n",
    "make_sound(Duck())  # Output: Quack\n",
    "make_sound(Dog())   # Output: Bark\n"
   ]
  },
  {
   "cell_type": "markdown",
   "id": "5e963fea",
   "metadata": {},
   "source": [
    "## 🔶 8. Composition\n",
    "✅ What is it?\n",
    "A class has an object of another class.\n",
    "\n",
    "Represents a \"has-a\" relationship.\n",
    "\n",
    "✅ Why Use Composition?\n",
    "More flexible than inheritance.\n",
    "\n",
    "Promotes loose coupling."
   ]
  },
  {
   "cell_type": "code",
   "execution_count": 37,
   "id": "cff30d46",
   "metadata": {},
   "outputs": [
    {
     "name": "stdout",
     "output_type": "stream",
     "text": [
      "Engine started\n"
     ]
    }
   ],
   "source": [
    "class Engine:\n",
    "    def start(self):\n",
    "        print(\"Engine started\")\n",
    "\n",
    "class Car:\n",
    "    def __init__(self):\n",
    "        self.engine = Engine()  # composition\n",
    "\n",
    "    def drive(self):\n",
    "        self.engine.start()\n",
    "\n",
    "Car().drive()\n"
   ]
  },
  {
   "cell_type": "code",
   "execution_count": 39,
   "id": "391e5067",
   "metadata": {},
   "outputs": [],
   "source": [
    "#  10. Magic Methods (Dunder Methods)\n",
    "\n",
    "\n",
    "# 🔸 1. Magic Method ya Dunder Method kya hota hai?\n",
    "# Python mein kuch special methods hote hain jo automatically chal jaate hain — bina aapke unko directly call kiye.\n",
    "\n",
    "# 🔹 Inka naam __ (double underscore) se start aur end hota hai:\n",
    "# 👉 Isliye inhe \"dunder methods\" (Double Underscore = Dunder) bola jata hai.\n",
    "# Method\tUsed For\n",
    "# __init__\tConstructor\n",
    "# __str__\tPrint-friendly string\n",
    "# __repr__\tDebug-friendly string\n",
    "# __add__\tOverload +\n",
    "# __eq__\tOverload ==\n",
    "# __len__\tOverload len()\n",
    "# __getitem__\tIndex access: obj[i]\n",
    "# __call__\tMake instance callable"
   ]
  },
  {
   "cell_type": "code",
   "execution_count": null,
   "id": "b9681646",
   "metadata": {},
   "outputs": [],
   "source": []
  }
 ],
 "metadata": {
  "kernelspec": {
   "display_name": "Python 3",
   "language": "python",
   "name": "python3"
  },
  "language_info": {
   "codemirror_mode": {
    "name": "ipython",
    "version": 3
   },
   "file_extension": ".py",
   "mimetype": "text/x-python",
   "name": "python",
   "nbconvert_exporter": "python",
   "pygments_lexer": "ipython3",
   "version": "3.9.10"
  }
 },
 "nbformat": 4,
 "nbformat_minor": 5
}
