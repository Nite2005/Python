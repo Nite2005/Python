{
 "cells": [
  {
   "cell_type": "code",
   "execution_count": 1,
   "id": "8d42f6de",
   "metadata": {},
   "outputs": [],
   "source": [
    "def count_up_to(n):\n",
    "    count = 1\n",
    "    while count <=n :\n",
    "        yield count\n",
    "        count += 1"
   ]
  },
  {
   "cell_type": "code",
   "execution_count": 6,
   "id": "202d0347",
   "metadata": {},
   "outputs": [
    {
     "name": "stdout",
     "output_type": "stream",
     "text": [
      "1\n",
      "2\n"
     ]
    }
   ],
   "source": [
    "count = count_up_to(5)\n",
    "print(next(count))\n",
    "print(next(count))"
   ]
  },
  {
   "cell_type": "code",
   "execution_count": 7,
   "id": "6f8f2ec5",
   "metadata": {},
   "outputs": [
    {
     "name": "stdout",
     "output_type": "stream",
     "text": [
      "Original: [1, 2, 3, 4, 5, 6]\n",
      "Squared: [1, 4, 9, 16, 25, 36]\n",
      "Even Squares: [4, 16, 36]\n",
      "Sum of Even Squares: 56\n"
     ]
    }
   ],
   "source": [
    "from functools import reduce\n",
    "\n",
    "# Input list\n",
    "numbers = [1, 2, 3, 4, 5, 6]\n",
    "\n",
    "# Step 1: Square all numbers using map\n",
    "squared = list(map(lambda x: x**2, numbers))\n",
    "\n",
    "# Step 2: Filter only even squares\n",
    "even_squares = list(filter(lambda x: x % 2 == 0, squared))\n",
    "\n",
    "# Step 3: Reduce to sum of even squares\n",
    "sum_even_squares = reduce(lambda x, y: x + y, even_squares)\n",
    "\n",
    "print(\"Original:\", numbers)\n",
    "print(\"Squared:\", squared)\n",
    "print(\"Even Squares:\", even_squares)\n",
    "print(\"Sum of Even Squares:\", sum_even_squares)\n"
   ]
  },
  {
   "cell_type": "code",
   "execution_count": null,
   "id": "7f36a97a",
   "metadata": {},
   "outputs": [],
   "source": []
  }
 ],
 "metadata": {
  "kernelspec": {
   "display_name": "Python 3",
   "language": "python",
   "name": "python3"
  },
  "language_info": {
   "codemirror_mode": {
    "name": "ipython",
    "version": 3
   },
   "file_extension": ".py",
   "mimetype": "text/x-python",
   "name": "python",
   "nbconvert_exporter": "python",
   "pygments_lexer": "ipython3",
   "version": "3.9.10"
  }
 },
 "nbformat": 4,
 "nbformat_minor": 5
}
