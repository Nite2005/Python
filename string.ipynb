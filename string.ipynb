{
 "cells": [
  {
   "cell_type": "markdown",
   "id": "8b92b34e",
   "metadata": {},
   "source": [
    "## Creating String"
   ]
  },
  {
   "cell_type": "code",
   "execution_count": 2,
   "id": "7c285111",
   "metadata": {},
   "outputs": [
    {
     "name": "stdout",
     "output_type": "stream",
     "text": [
      "hello\n"
     ]
    }
   ],
   "source": [
    "s = 'hello'\n",
    "s = \"hello\"\n",
    "s = '''hello'''\n",
    "s = \"\"\"hello\"\"\"\n",
    "\n",
    "print(s)"
   ]
  },
  {
   "cell_type": "markdown",
   "id": "8a30b941",
   "metadata": {},
   "source": [
    "## Accessing Substring from a string"
   ]
  },
  {
   "cell_type": "code",
   "execution_count": 4,
   "id": "3d27b084",
   "metadata": {},
   "outputs": [
    {
     "name": "stdout",
     "output_type": "stream",
     "text": [
      "d\n",
      "o\n"
     ]
    }
   ],
   "source": [
    "#indexing\n",
    "\n",
    "s = 'hello world'\n",
    "\n",
    "# negative indexing\n",
    "\n",
    "s = 'hello world'\n",
    "\n",
    "print(s[-1])\n",
    "print(s[-4])"
   ]
  },
  {
   "cell_type": "code",
   "execution_count": 22,
   "id": "39c7934b",
   "metadata": {},
   "outputs": [
    {
     "name": "stdout",
     "output_type": "stream",
     "text": [
      "hello\n",
      "ll\n",
      "hello world\n",
      "hello wor\n",
      "hlowrd\n",
      "hl\n",
      "wol\n",
      "dlrow olleh\n",
      "dlrow\n"
     ]
    }
   ],
   "source": [
    "#slicing\n",
    "\n",
    "s = \"hello world\"\n",
    "\n",
    "print(s[0:5])\n",
    "print(s[2:4])\n",
    "print(s[:])\n",
    "print(s[:9])\n",
    "print(s[::2])\n",
    "print(s[0:4:2])\n",
    "\n",
    "print(s[6:0:-2])\n",
    "print(s[::-1])\n",
    "print(s[-1:-6:-1])"
   ]
  },
  {
   "cell_type": "markdown",
   "id": "01e7dee9",
   "metadata": {},
   "source": [
    "## Editing and deleting strings"
   ]
  },
  {
   "cell_type": "code",
   "execution_count": null,
   "id": "1b1dba51",
   "metadata": {},
   "outputs": [
    {
     "ename": "TypeError",
     "evalue": "'str' object does not support item assignment",
     "output_type": "error",
     "traceback": [
      "\u001b[1;31m---------------------------------------------------------------------------\u001b[0m",
      "\u001b[1;31mTypeError\u001b[0m                                 Traceback (most recent call last)",
      "Cell \u001b[1;32mIn[23], line 3\u001b[0m\n\u001b[0;32m      1\u001b[0m s \u001b[38;5;241m=\u001b[39m \u001b[38;5;124m'\u001b[39m\u001b[38;5;124mhello world\u001b[39m\u001b[38;5;124m'\u001b[39m\n\u001b[1;32m----> 3\u001b[0m \u001b[43ms\u001b[49m\u001b[43m[\u001b[49m\u001b[38;5;241;43m0\u001b[39;49m\u001b[43m]\u001b[49m \u001b[38;5;241m=\u001b[39m \u001b[38;5;124m'\u001b[39m\u001b[38;5;124mh\u001b[39m\u001b[38;5;124m'\u001b[39m\n",
      "\u001b[1;31mTypeError\u001b[0m: 'str' object does not support item assignment"
     ]
    }
   ],
   "source": [
    "s = 'hello world'\n",
    "\n",
    "s[0] = 'h'\n",
    "\n",
    "\n",
    "# python strings are immutable"
   ]
  },
  {
   "cell_type": "code",
   "execution_count": 24,
   "id": "e8670ee2",
   "metadata": {},
   "outputs": [
    {
     "ename": "NameError",
     "evalue": "name 's' is not defined",
     "output_type": "error",
     "traceback": [
      "\u001b[1;31m---------------------------------------------------------------------------\u001b[0m",
      "\u001b[1;31mNameError\u001b[0m                                 Traceback (most recent call last)",
      "Cell \u001b[1;32mIn[24], line 3\u001b[0m\n\u001b[0;32m      1\u001b[0m s \u001b[38;5;241m=\u001b[39m \u001b[38;5;124m\"\u001b[39m\u001b[38;5;124mHello world\u001b[39m\u001b[38;5;124m\"\u001b[39m\n\u001b[0;32m      2\u001b[0m \u001b[38;5;28;01mdel\u001b[39;00m s\n\u001b[1;32m----> 3\u001b[0m \u001b[38;5;28mprint\u001b[39m(\u001b[43ms\u001b[49m)\n",
      "\u001b[1;31mNameError\u001b[0m: name 's' is not defined"
     ]
    }
   ],
   "source": [
    "s = \"Hello world\"\n",
    "del s\n",
    "print(s)"
   ]
  },
  {
   "cell_type": "code",
   "execution_count": 25,
   "id": "237bad03",
   "metadata": {},
   "outputs": [
    {
     "ename": "TypeError",
     "evalue": "'str' object does not support item deletion",
     "output_type": "error",
     "traceback": [
      "\u001b[1;31m---------------------------------------------------------------------------\u001b[0m",
      "\u001b[1;31mTypeError\u001b[0m                                 Traceback (most recent call last)",
      "Cell \u001b[1;32mIn[25], line 2\u001b[0m\n\u001b[0;32m      1\u001b[0m s \u001b[38;5;241m=\u001b[39m \u001b[38;5;124m'\u001b[39m\u001b[38;5;124mhello world\u001b[39m\u001b[38;5;124m'\u001b[39m\n\u001b[1;32m----> 2\u001b[0m \u001b[38;5;28;01mdel\u001b[39;00m s[\u001b[38;5;241m-\u001b[39m\u001b[38;5;241m1\u001b[39m:\u001b[38;5;241m-\u001b[39m\u001b[38;5;241m5\u001b[39m:\u001b[38;5;241m2\u001b[39m]\n\u001b[0;32m      3\u001b[0m \u001b[38;5;28mprint\u001b[39m(s)\n",
      "\u001b[1;31mTypeError\u001b[0m: 'str' object does not support item deletion"
     ]
    }
   ],
   "source": [
    "s = 'hello world'\n",
    "del s[-1:-5:2]\n",
    "print(s)"
   ]
  },
  {
   "cell_type": "markdown",
   "id": "6b1cbcbe",
   "metadata": {},
   "source": [
    "## Operations on Strings"
   ]
  },
  {
   "cell_type": "code",
   "execution_count": 26,
   "id": "9615f68f",
   "metadata": {},
   "outputs": [
    {
     "name": "stdout",
     "output_type": "stream",
     "text": [
      "delhimumbai\n",
      "delhidelhidelhidelhidelhidelhidelhi\n"
     ]
    }
   ],
   "source": [
    "#arithmetic operation\n",
    "\n",
    "print('delhi' + 'mumbai')\n",
    "print('delhi' * 7)"
   ]
  },
  {
   "cell_type": "code",
   "execution_count": null,
   "id": "31684768",
   "metadata": {},
   "outputs": [
    {
     "data": {
      "text/plain": [
       "False"
      ]
     },
     "execution_count": 28,
     "metadata": {},
     "output_type": "execute_result"
    }
   ],
   "source": [
    "# Relational operator\n",
    "\n",
    "'delhi' == 'delhi' \n",
    "'mumbai' > 'pune' #lexiographically comparison\n",
    "\n",
    "'pune'< 'Pune' # by using ascii value"
   ]
  },
  {
   "cell_type": "code",
   "execution_count": 29,
   "id": "cdece08a",
   "metadata": {},
   "outputs": [
    {
     "data": {
      "text/plain": [
       "'world'"
      ]
     },
     "execution_count": 29,
     "metadata": {},
     "output_type": "execute_result"
    }
   ],
   "source": [
    "#Logical operation\n",
    "\n",
    "'hello' and 'world'"
   ]
  },
  {
   "cell_type": "code",
   "execution_count": 30,
   "id": "f5baa7f1",
   "metadata": {},
   "outputs": [
    {
     "data": {
      "text/plain": [
       "'hello'"
      ]
     },
     "execution_count": 30,
     "metadata": {},
     "output_type": "execute_result"
    }
   ],
   "source": [
    "'hello' or 'world'"
   ]
  },
  {
   "cell_type": "code",
   "execution_count": 31,
   "id": "895b04c5",
   "metadata": {},
   "outputs": [
    {
     "data": {
      "text/plain": [
       "''"
      ]
     },
     "execution_count": 31,
     "metadata": {},
     "output_type": "execute_result"
    }
   ],
   "source": [
    "'' and 'world'  # '' -> false , any filled string -> True"
   ]
  },
  {
   "cell_type": "code",
   "execution_count": 32,
   "id": "04c1d1bb",
   "metadata": {},
   "outputs": [
    {
     "data": {
      "text/plain": [
       "'world'"
      ]
     },
     "execution_count": 32,
     "metadata": {},
     "output_type": "execute_result"
    }
   ],
   "source": [
    "'' or 'world' "
   ]
  },
  {
   "cell_type": "code",
   "execution_count": 33,
   "id": "c325a84b",
   "metadata": {},
   "outputs": [
    {
     "data": {
      "text/plain": [
       "True"
      ]
     },
     "execution_count": 33,
     "metadata": {},
     "output_type": "execute_result"
    }
   ],
   "source": [
    "not ''"
   ]
  },
  {
   "cell_type": "code",
   "execution_count": 34,
   "id": "bb85dfd0",
   "metadata": {},
   "outputs": [
    {
     "data": {
      "text/plain": [
       "False"
      ]
     },
     "execution_count": 34,
     "metadata": {},
     "output_type": "execute_result"
    }
   ],
   "source": [
    "not 'hello'"
   ]
  },
  {
   "cell_type": "code",
   "execution_count": 35,
   "id": "d3869552",
   "metadata": {},
   "outputs": [
    {
     "name": "stdout",
     "output_type": "stream",
     "text": [
      "h\n",
      "e\n",
      "l\n",
      "l\n",
      "o\n"
     ]
    }
   ],
   "source": [
    "for i in 'hello':\n",
    "    print(i)"
   ]
  },
  {
   "cell_type": "code",
   "execution_count": 36,
   "id": "804f8a3e",
   "metadata": {},
   "outputs": [
    {
     "name": "stdout",
     "output_type": "stream",
     "text": [
      "pune\n",
      "pune\n",
      "pune\n",
      "pune\n",
      "pune\n"
     ]
    }
   ],
   "source": [
    "for i in 'delhi':\n",
    "    print('pune')"
   ]
  },
  {
   "cell_type": "markdown",
   "id": "eb407602",
   "metadata": {},
   "source": [
    "## Membership Operation"
   ]
  },
  {
   "cell_type": "code",
   "execution_count": 37,
   "id": "3a312b55",
   "metadata": {},
   "outputs": [
    {
     "data": {
      "text/plain": [
       "True"
      ]
     },
     "execution_count": 37,
     "metadata": {},
     "output_type": "execute_result"
    }
   ],
   "source": [
    "'D' in 'Delhi'"
   ]
  },
  {
   "cell_type": "code",
   "execution_count": 38,
   "id": "7f3ef1ac",
   "metadata": {},
   "outputs": [
    {
     "data": {
      "text/plain": [
       "False"
      ]
     },
     "execution_count": 38,
     "metadata": {},
     "output_type": "execute_result"
    }
   ],
   "source": [
    "'d' in 'Delhi'"
   ]
  },
  {
   "cell_type": "markdown",
   "id": "413b28ef",
   "metadata": {},
   "source": [
    "## Common Funtion \n",
    "* len\n",
    "* max\n",
    "* min\n",
    "* sorted"
   ]
  },
  {
   "cell_type": "code",
   "execution_count": 39,
   "id": "8b524798",
   "metadata": {},
   "outputs": [
    {
     "data": {
      "text/plain": [
       "11"
      ]
     },
     "execution_count": 39,
     "metadata": {},
     "output_type": "execute_result"
    }
   ],
   "source": [
    "len('hello world')"
   ]
  },
  {
   "cell_type": "code",
   "execution_count": 40,
   "id": "7bed7151",
   "metadata": {},
   "outputs": [
    {
     "data": {
      "text/plain": [
       "'w'"
      ]
     },
     "execution_count": 40,
     "metadata": {},
     "output_type": "execute_result"
    }
   ],
   "source": [
    "max('hello world')"
   ]
  },
  {
   "cell_type": "code",
   "execution_count": 41,
   "id": "769b5432",
   "metadata": {},
   "outputs": [
    {
     "data": {
      "text/plain": [
       "' '"
      ]
     },
     "execution_count": 41,
     "metadata": {},
     "output_type": "execute_result"
    }
   ],
   "source": [
    "min('hello world')"
   ]
  },
  {
   "cell_type": "code",
   "execution_count": 42,
   "id": "e3180cd6",
   "metadata": {},
   "outputs": [
    {
     "data": {
      "text/plain": [
       "[' ', 'd', 'e', 'h', 'l', 'l', 'l', 'o', 'o', 'r', 'w']"
      ]
     },
     "execution_count": 42,
     "metadata": {},
     "output_type": "execute_result"
    }
   ],
   "source": [
    "sorted('hello world')"
   ]
  },
  {
   "cell_type": "markdown",
   "id": "f17db768",
   "metadata": {},
   "source": [
    "## Capitalize/Title/Upper/Lower/Swapcase"
   ]
  },
  {
   "cell_type": "code",
   "execution_count": 43,
   "id": "f3fc366a",
   "metadata": {},
   "outputs": [
    {
     "data": {
      "text/plain": [
       "'Hello world'"
      ]
     },
     "execution_count": 43,
     "metadata": {},
     "output_type": "execute_result"
    }
   ],
   "source": [
    "s = 'hello world'\n",
    "\n",
    "s.capitalize()"
   ]
  },
  {
   "cell_type": "code",
   "execution_count": 44,
   "id": "c7e6f611",
   "metadata": {},
   "outputs": [
    {
     "data": {
      "text/plain": [
       "'Hello World'"
      ]
     },
     "execution_count": 44,
     "metadata": {},
     "output_type": "execute_result"
    }
   ],
   "source": [
    "s = 'hello world'\n",
    "\n",
    "s.title()"
   ]
  },
  {
   "cell_type": "code",
   "execution_count": 45,
   "id": "d93ca2df",
   "metadata": {},
   "outputs": [
    {
     "data": {
      "text/plain": [
       "'HELLO WORLD'"
      ]
     },
     "execution_count": 45,
     "metadata": {},
     "output_type": "execute_result"
    }
   ],
   "source": [
    "s.upper()"
   ]
  },
  {
   "cell_type": "code",
   "execution_count": 46,
   "id": "e0a2c8e7",
   "metadata": {},
   "outputs": [
    {
     "data": {
      "text/plain": [
       "'hello world'"
      ]
     },
     "execution_count": 46,
     "metadata": {},
     "output_type": "execute_result"
    }
   ],
   "source": [
    "s.lower()"
   ]
  },
  {
   "cell_type": "code",
   "execution_count": 48,
   "id": "c108245a",
   "metadata": {},
   "outputs": [
    {
     "data": {
      "text/plain": [
       "'HellOWOrlD'"
      ]
     },
     "execution_count": 48,
     "metadata": {},
     "output_type": "execute_result"
    }
   ],
   "source": [
    "'hELLowoRLd'.swapcase()"
   ]
  },
  {
   "cell_type": "markdown",
   "id": "32425c5c",
   "metadata": {},
   "source": [
    "## Count/Find/Index"
   ]
  },
  {
   "cell_type": "code",
   "execution_count": 49,
   "id": "c3989008",
   "metadata": {},
   "outputs": [
    {
     "data": {
      "text/plain": [
       "2"
      ]
     },
     "execution_count": 49,
     "metadata": {},
     "output_type": "execute_result"
    }
   ],
   "source": [
    "'my name is nitesh'.count('i')"
   ]
  },
  {
   "cell_type": "code",
   "execution_count": 50,
   "id": "5bb006b9",
   "metadata": {},
   "outputs": [
    {
     "data": {
      "text/plain": [
       "8"
      ]
     },
     "execution_count": 50,
     "metadata": {},
     "output_type": "execute_result"
    }
   ],
   "source": [
    "'my name is nitesh'.find('is')"
   ]
  },
  {
   "cell_type": "code",
   "execution_count": 51,
   "id": "cd6c6f8c",
   "metadata": {},
   "outputs": [
    {
     "data": {
      "text/plain": [
       "-1"
      ]
     },
     "execution_count": 51,
     "metadata": {},
     "output_type": "execute_result"
    }
   ],
   "source": [
    "'my name is nitesh'.find('x')"
   ]
  },
  {
   "cell_type": "code",
   "execution_count": 52,
   "id": "2d2988ea",
   "metadata": {},
   "outputs": [
    {
     "data": {
      "text/plain": [
       "8"
      ]
     },
     "execution_count": 52,
     "metadata": {},
     "output_type": "execute_result"
    }
   ],
   "source": [
    "'my name is nitesh'.index('is')"
   ]
  },
  {
   "cell_type": "code",
   "execution_count": 53,
   "id": "6a0a73f2",
   "metadata": {},
   "outputs": [
    {
     "ename": "ValueError",
     "evalue": "substring not found",
     "output_type": "error",
     "traceback": [
      "\u001b[1;31m---------------------------------------------------------------------------\u001b[0m",
      "\u001b[1;31mValueError\u001b[0m                                Traceback (most recent call last)",
      "Cell \u001b[1;32mIn[53], line 1\u001b[0m\n\u001b[1;32m----> 1\u001b[0m \u001b[38;5;124;43m'\u001b[39;49m\u001b[38;5;124;43mmy name is nitesh\u001b[39;49m\u001b[38;5;124;43m'\u001b[39;49m\u001b[38;5;241;43m.\u001b[39;49m\u001b[43mindex\u001b[49m\u001b[43m(\u001b[49m\u001b[38;5;124;43m'\u001b[39;49m\u001b[38;5;124;43mx\u001b[39;49m\u001b[38;5;124;43m'\u001b[39;49m\u001b[43m)\u001b[49m\n",
      "\u001b[1;31mValueError\u001b[0m: substring not found"
     ]
    }
   ],
   "source": [
    "'my name is nitesh'.index('x')"
   ]
  },
  {
   "cell_type": "markdown",
   "id": "19dd79df",
   "metadata": {},
   "source": [
    "## endswith/startswith"
   ]
  },
  {
   "cell_type": "code",
   "execution_count": 54,
   "id": "3ac01976",
   "metadata": {},
   "outputs": [
    {
     "data": {
      "text/plain": [
       "True"
      ]
     },
     "execution_count": 54,
     "metadata": {},
     "output_type": "execute_result"
    }
   ],
   "source": [
    "'my name is nitish'.endswith('sh')"
   ]
  },
  {
   "cell_type": "code",
   "execution_count": 55,
   "id": "d7b5e128",
   "metadata": {},
   "outputs": [
    {
     "data": {
      "text/plain": [
       "False"
      ]
     },
     "execution_count": 55,
     "metadata": {},
     "output_type": "execute_result"
    }
   ],
   "source": [
    "'Nitesh'.endswith('is')"
   ]
  },
  {
   "cell_type": "code",
   "execution_count": 56,
   "id": "5aa6cce9",
   "metadata": {},
   "outputs": [
    {
     "data": {
      "text/plain": [
       "True"
      ]
     },
     "execution_count": 56,
     "metadata": {},
     "output_type": "execute_result"
    }
   ],
   "source": [
    "'my name is nitesh'.startswith('my')"
   ]
  },
  {
   "cell_type": "code",
   "execution_count": 57,
   "id": "9cfa6fc0",
   "metadata": {},
   "outputs": [
    {
     "data": {
      "text/plain": [
       "False"
      ]
     },
     "execution_count": 57,
     "metadata": {},
     "output_type": "execute_result"
    }
   ],
   "source": [
    "'my name is nitesh'.startswith('is')"
   ]
  },
  {
   "cell_type": "markdown",
   "id": "8b899487",
   "metadata": {},
   "source": [
    "## format"
   ]
  },
  {
   "cell_type": "code",
   "execution_count": 62,
   "id": "b8a8a22d",
   "metadata": {},
   "outputs": [
    {
     "name": "stdout",
     "output_type": "stream",
     "text": [
      "Hii , Welcome  and your gender is \n",
      "Hii , Welcome  and your gender is \n",
      "Hii , Welcome  and your gender is \n"
     ]
    }
   ],
   "source": [
    "name = input(\"Enter your name\")\n",
    "gender = input(\"Enter your gender\")\n",
    "\n",
    "print('Hii , Welcome {} and your gender is {}'.format(name,gender))\n",
    "\n",
    "print('Hii , Welcome {} and your gender is {}'.format(gender,name))\n",
    "\n",
    "print('Hii , Welcome {1} and your gender is {0}'.format(gender,name))\n",
    "\n"
   ]
  },
  {
   "cell_type": "markdown",
   "id": "c9435c35",
   "metadata": {},
   "source": [
    "## isalnum/isalpha/isdigit/isidentifier"
   ]
  },
  {
   "cell_type": "code",
   "execution_count": 63,
   "id": "f40615bd",
   "metadata": {},
   "outputs": [
    {
     "data": {
      "text/plain": [
       "True"
      ]
     },
     "execution_count": 63,
     "metadata": {},
     "output_type": "execute_result"
    }
   ],
   "source": [
    "'nitesh1234'.isalnum()"
   ]
  },
  {
   "cell_type": "code",
   "execution_count": 64,
   "id": "bc97e9c9",
   "metadata": {},
   "outputs": [
    {
     "data": {
      "text/plain": [
       "False"
      ]
     },
     "execution_count": 64,
     "metadata": {},
     "output_type": "execute_result"
    }
   ],
   "source": [
    "'$%%'.isalnum()"
   ]
  },
  {
   "cell_type": "code",
   "execution_count": 65,
   "id": "2f6648cc",
   "metadata": {},
   "outputs": [
    {
     "data": {
      "text/plain": [
       "True"
      ]
     },
     "execution_count": 65,
     "metadata": {},
     "output_type": "execute_result"
    }
   ],
   "source": [
    "\"nitesh\".isalnum()"
   ]
  },
  {
   "cell_type": "code",
   "execution_count": 66,
   "id": "8c217a64",
   "metadata": {},
   "outputs": [
    {
     "data": {
      "text/plain": [
       "True"
      ]
     },
     "execution_count": 66,
     "metadata": {},
     "output_type": "execute_result"
    }
   ],
   "source": [
    "'123'.isalnum()"
   ]
  },
  {
   "cell_type": "code",
   "execution_count": 67,
   "id": "3a8f938a",
   "metadata": {},
   "outputs": [
    {
     "data": {
      "text/plain": [
       "True"
      ]
     },
     "execution_count": 67,
     "metadata": {},
     "output_type": "execute_result"
    }
   ],
   "source": [
    "'nitesh'.isalpha()"
   ]
  },
  {
   "cell_type": "code",
   "execution_count": 68,
   "id": "92353029",
   "metadata": {},
   "outputs": [
    {
     "data": {
      "text/plain": [
       "False"
      ]
     },
     "execution_count": 68,
     "metadata": {},
     "output_type": "execute_result"
    }
   ],
   "source": [
    "'123'.isalpha()"
   ]
  },
  {
   "cell_type": "code",
   "execution_count": 69,
   "id": "9de72766",
   "metadata": {},
   "outputs": [
    {
     "data": {
      "text/plain": [
       "False"
      ]
     },
     "execution_count": 69,
     "metadata": {},
     "output_type": "execute_result"
    }
   ],
   "source": [
    "'nitesh'.isdigit()"
   ]
  },
  {
   "cell_type": "code",
   "execution_count": 70,
   "id": "c080a0b6",
   "metadata": {},
   "outputs": [
    {
     "data": {
      "text/plain": [
       "True"
      ]
     },
     "execution_count": 70,
     "metadata": {},
     "output_type": "execute_result"
    }
   ],
   "source": [
    "'123'.isdigit()"
   ]
  },
  {
   "cell_type": "code",
   "execution_count": 71,
   "id": "3f01f37c",
   "metadata": {},
   "outputs": [
    {
     "data": {
      "text/plain": [
       "False"
      ]
     },
     "execution_count": 71,
     "metadata": {},
     "output_type": "execute_result"
    }
   ],
   "source": [
    "'nitesh123'.isdigit()"
   ]
  },
  {
   "cell_type": "code",
   "execution_count": 72,
   "id": "a7f82ed4",
   "metadata": {},
   "outputs": [
    {
     "data": {
      "text/plain": [
       "True"
      ]
     },
     "execution_count": 72,
     "metadata": {},
     "output_type": "execute_result"
    }
   ],
   "source": [
    "'first_name'.isidentifier()"
   ]
  },
  {
   "cell_type": "code",
   "execution_count": null,
   "id": "88001e76",
   "metadata": {},
   "outputs": [],
   "source": []
  }
 ],
 "metadata": {
  "kernelspec": {
   "display_name": "Python 3",
   "language": "python",
   "name": "python3"
  },
  "language_info": {
   "codemirror_mode": {
    "name": "ipython",
    "version": 3
   },
   "file_extension": ".py",
   "mimetype": "text/x-python",
   "name": "python",
   "nbconvert_exporter": "python",
   "pygments_lexer": "ipython3",
   "version": "3.9.10"
  }
 },
 "nbformat": 4,
 "nbformat_minor": 5
}
