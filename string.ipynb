{
 "cells": [
  {
   "cell_type": "markdown",
   "id": "8b92b34e",
   "metadata": {},
   "source": [
    "## Creating String"
   ]
  },
  {
   "cell_type": "code",
   "execution_count": 2,
   "id": "7c285111",
   "metadata": {},
   "outputs": [
    {
     "name": "stdout",
     "output_type": "stream",
     "text": [
      "hello\n"
     ]
    }
   ],
   "source": [
    "s = 'hello'\n",
    "s = \"hello\"\n",
    "s = '''hello'''\n",
    "s = \"\"\"hello\"\"\"\n",
    "\n",
    "print(s)"
   ]
  },
  {
   "cell_type": "markdown",
   "id": "8a30b941",
   "metadata": {},
   "source": [
    "## Accessing Substring from a string"
   ]
  },
  {
   "cell_type": "code",
   "execution_count": 4,
   "id": "3d27b084",
   "metadata": {},
   "outputs": [
    {
     "name": "stdout",
     "output_type": "stream",
     "text": [
      "d\n",
      "o\n"
     ]
    }
   ],
   "source": [
    "#indexing\n",
    "\n",
    "s = 'hello world'\n",
    "\n",
    "# negative indexing\n",
    "\n",
    "s = 'hello world'\n",
    "\n",
    "print(s[-1])\n",
    "print(s[-4])"
   ]
  },
  {
   "cell_type": "code",
   "execution_count": 22,
   "id": "39c7934b",
   "metadata": {},
   "outputs": [
    {
     "name": "stdout",
     "output_type": "stream",
     "text": [
      "hello\n",
      "ll\n",
      "hello world\n",
      "hello wor\n",
      "hlowrd\n",
      "hl\n",
      "wol\n",
      "dlrow olleh\n",
      "dlrow\n"
     ]
    }
   ],
   "source": [
    "#slicing\n",
    "\n",
    "s = \"hello world\"\n",
    "\n",
    "print(s[0:5])\n",
    "print(s[2:4])\n",
    "print(s[:])\n",
    "print(s[:9])\n",
    "print(s[::2])\n",
    "print(s[0:4:2])\n",
    "\n",
    "print(s[6:0:-2])\n",
    "print(s[::-1])\n",
    "print(s[-1:-6:-1])"
   ]
  },
  {
   "cell_type": "markdown",
   "id": "01e7dee9",
   "metadata": {},
   "source": [
    "## Editing and deleting strings"
   ]
  },
  {
   "cell_type": "code",
   "execution_count": null,
   "id": "1b1dba51",
   "metadata": {},
   "outputs": [
    {
     "ename": "TypeError",
     "evalue": "'str' object does not support item assignment",
     "output_type": "error",
     "traceback": [
      "\u001b[1;31m---------------------------------------------------------------------------\u001b[0m",
      "\u001b[1;31mTypeError\u001b[0m                                 Traceback (most recent call last)",
      "Cell \u001b[1;32mIn[23], line 3\u001b[0m\n\u001b[0;32m      1\u001b[0m s \u001b[38;5;241m=\u001b[39m \u001b[38;5;124m'\u001b[39m\u001b[38;5;124mhello world\u001b[39m\u001b[38;5;124m'\u001b[39m\n\u001b[1;32m----> 3\u001b[0m \u001b[43ms\u001b[49m\u001b[43m[\u001b[49m\u001b[38;5;241;43m0\u001b[39;49m\u001b[43m]\u001b[49m \u001b[38;5;241m=\u001b[39m \u001b[38;5;124m'\u001b[39m\u001b[38;5;124mh\u001b[39m\u001b[38;5;124m'\u001b[39m\n",
      "\u001b[1;31mTypeError\u001b[0m: 'str' object does not support item assignment"
     ]
    }
   ],
   "source": [
    "s = 'hello world'\n",
    "\n",
    "s[0] = 'h'\n",
    "\n",
    "\n",
    "# python strings are immutable"
   ]
  },
  {
   "cell_type": "code",
   "execution_count": null,
   "id": "e8670ee2",
   "metadata": {},
   "outputs": [],
   "source": []
  }
 ],
 "metadata": {
  "kernelspec": {
   "display_name": "Python 3",
   "language": "python",
   "name": "python3"
  },
  "language_info": {
   "codemirror_mode": {
    "name": "ipython",
    "version": 3
   },
   "file_extension": ".py",
   "mimetype": "text/x-python",
   "name": "python",
   "nbconvert_exporter": "python",
   "pygments_lexer": "ipython3",
   "version": "3.9.10"
  }
 },
 "nbformat": 4,
 "nbformat_minor": 5
}
