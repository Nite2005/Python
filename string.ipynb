{
 "cells": [
  {
   "cell_type": "markdown",
   "id": "8b92b34e",
   "metadata": {},
   "source": [
    "## Creating String"
   ]
  },
  {
   "cell_type": "code",
   "execution_count": 2,
   "id": "7c285111",
   "metadata": {},
   "outputs": [
    {
     "name": "stdout",
     "output_type": "stream",
     "text": [
      "hello\n"
     ]
    }
   ],
   "source": [
    "s = 'hello'\n",
    "s = \"hello\"\n",
    "s = '''hello'''\n",
    "s = \"\"\"hello\"\"\"\n",
    "\n",
    "print(s)"
   ]
  },
  {
   "cell_type": "markdown",
   "id": "8a30b941",
   "metadata": {},
   "source": [
    "## Accessing Substring from a string"
   ]
  },
  {
   "cell_type": "code",
   "execution_count": 4,
   "id": "3d27b084",
   "metadata": {},
   "outputs": [
    {
     "name": "stdout",
     "output_type": "stream",
     "text": [
      "d\n",
      "o\n"
     ]
    }
   ],
   "source": [
    "#indexing\n",
    "\n",
    "s = 'hello world'\n",
    "\n",
    "# negative indexing\n",
    "\n",
    "s = 'hello world'\n",
    "\n",
    "print(s[-1])\n",
    "print(s[-4])"
   ]
  },
  {
   "cell_type": "code",
   "execution_count": null,
   "id": "39c7934b",
   "metadata": {},
   "outputs": [],
   "source": []
  }
 ],
 "metadata": {
  "kernelspec": {
   "display_name": "Python 3",
   "language": "python",
   "name": "python3"
  },
  "language_info": {
   "codemirror_mode": {
    "name": "ipython",
    "version": 3
   },
   "file_extension": ".py",
   "mimetype": "text/x-python",
   "name": "python",
   "nbconvert_exporter": "python",
   "pygments_lexer": "ipython3",
   "version": "3.9.10"
  }
 },
 "nbformat": 4,
 "nbformat_minor": 5
}
