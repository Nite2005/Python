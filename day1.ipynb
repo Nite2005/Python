{
 "cells": [
  {
   "cell_type": "code",
   "execution_count": 2,
   "id": "fe8c0d17",
   "metadata": {},
   "outputs": [
    {
     "name": "stdout",
     "output_type": "stream",
     "text": [
      "hello world\n"
     ]
    }
   ],
   "source": [
    "print(\"hello world\")"
   ]
  },
  {
   "cell_type": "code",
   "execution_count": 3,
   "id": "4b426428",
   "metadata": {},
   "outputs": [
    {
     "name": "stdout",
     "output_type": "stream",
     "text": [
      "5\n"
     ]
    }
   ],
   "source": [
    "print(5)"
   ]
  },
  {
   "cell_type": "code",
   "execution_count": 4,
   "id": "4d5fc97f",
   "metadata": {},
   "outputs": [
    {
     "name": "stdout",
     "output_type": "stream",
     "text": [
      "34 4\n"
     ]
    }
   ],
   "source": [
    "print(34,4)"
   ]
  },
  {
   "cell_type": "code",
   "execution_count": 7,
   "id": "3f506582",
   "metadata": {},
   "outputs": [
    {
     "name": "stdout",
     "output_type": "stream",
     "text": [
      "32.34\n"
     ]
    }
   ],
   "source": [
    "print(32.34)"
   ]
  },
  {
   "cell_type": "code",
   "execution_count": 8,
   "id": "45497b05",
   "metadata": {},
   "outputs": [
    {
     "name": "stdout",
     "output_type": "stream",
     "text": [
      "hello 1 4.5 True\n"
     ]
    }
   ],
   "source": [
    "print('hello',1,4.5,True)"
   ]
  },
  {
   "cell_type": "code",
   "execution_count": 9,
   "id": "e6601958",
   "metadata": {},
   "outputs": [
    {
     "name": "stdout",
     "output_type": "stream",
     "text": [
      "hello/1/4.5/True\n"
     ]
    }
   ],
   "source": [
    "print('hello',1,4.5,True,sep='/')"
   ]
  },
  {
   "cell_type": "code",
   "execution_count": 11,
   "id": "04426d7b",
   "metadata": {},
   "outputs": [
    {
     "name": "stdout",
     "output_type": "stream",
     "text": [
      "hello\n",
      "world\n"
     ]
    }
   ],
   "source": [
    "print('hello')\n",
    "print('world')"
   ]
  },
  {
   "cell_type": "code",
   "execution_count": 13,
   "id": "ca0e43b2",
   "metadata": {},
   "outputs": [
    {
     "name": "stdout",
     "output_type": "stream",
     "text": [
      "hello-world\n"
     ]
    }
   ],
   "source": [
    "\n",
    "\n",
    "print('hello',end='-')\n",
    "print('world')\n"
   ]
  },
  {
   "cell_type": "code",
   "execution_count": 2,
   "id": "aeed2634",
   "metadata": {},
   "outputs": [
    {
     "name": "stdout",
     "output_type": "stream",
     "text": [
      "8\n",
      "1e+308\n",
      "inf\n"
     ]
    }
   ],
   "source": [
    "print(8)\n",
    "\n",
    "# 1*10^308\n",
    "print(1e308)\n",
    "\n",
    "\n",
    "print(1e309)"
   ]
  },
  {
   "cell_type": "code",
   "execution_count": 3,
   "id": "7e764927",
   "metadata": {},
   "outputs": [
    {
     "name": "stdout",
     "output_type": "stream",
     "text": [
      "8.55\n",
      "inf\n"
     ]
    }
   ],
   "source": [
    "print(8.55)\n",
    "\n",
    "print(1.4e309)"
   ]
  },
  {
   "cell_type": "code",
   "execution_count": 4,
   "id": "6ef3d271",
   "metadata": {},
   "outputs": [
    {
     "name": "stdout",
     "output_type": "stream",
     "text": [
      "True\n",
      "False\n"
     ]
    }
   ],
   "source": [
    "# Boolean\n",
    "print(True)\n",
    "print(False)"
   ]
  },
  {
   "cell_type": "code",
   "execution_count": 6,
   "id": "aa4482e1",
   "metadata": {},
   "outputs": [
    {
     "name": "stdout",
     "output_type": "stream",
     "text": [
      "(5+6j)\n"
     ]
    }
   ],
   "source": [
    "# complex\n",
    "\n",
    "print(5+6j)"
   ]
  },
  {
   "cell_type": "code",
   "execution_count": 7,
   "id": "400051ea",
   "metadata": {},
   "outputs": [
    {
     "name": "stdout",
     "output_type": "stream",
     "text": [
      "[1, 3, 4, 5]\n"
     ]
    }
   ],
   "source": [
    "# List\n",
    "\n",
    "print([1,3,4,5])"
   ]
  },
  {
   "cell_type": "code",
   "execution_count": 8,
   "id": "06bc8f04",
   "metadata": {},
   "outputs": [
    {
     "name": "stdout",
     "output_type": "stream",
     "text": [
      "(1, 2, 3, 4)\n"
     ]
    }
   ],
   "source": [
    "# Tuple\n",
    "\n",
    "print((1,2,3,4))"
   ]
  },
  {
   "cell_type": "code",
   "execution_count": 9,
   "id": "e8e936f4",
   "metadata": {},
   "outputs": [
    {
     "name": "stdout",
     "output_type": "stream",
     "text": [
      "{1, 3, 4}\n"
     ]
    }
   ],
   "source": [
    "# sets\n",
    "print({1,3,4,4})"
   ]
  },
  {
   "cell_type": "code",
   "execution_count": 11,
   "id": "29339bc1",
   "metadata": {},
   "outputs": [
    {
     "name": "stdout",
     "output_type": "stream",
     "text": [
      "{'name': 'Nitesh', 'gender': 'Male'}\n"
     ]
    }
   ],
   "source": [
    "#Dictionary\n",
    "\n",
    "print({\"name\":\"Nitesh\",'gender':\"Male\"})"
   ]
  },
  {
   "cell_type": "code",
   "execution_count": 12,
   "id": "ea40a468",
   "metadata": {},
   "outputs": [
    {
     "data": {
      "text/plain": [
       "list"
      ]
     },
     "execution_count": 12,
     "metadata": {},
     "output_type": "execute_result"
    }
   ],
   "source": [
    "type([1,3,45,5])"
   ]
  },
  {
   "cell_type": "code",
   "execution_count": 13,
   "id": "ac82160c",
   "metadata": {},
   "outputs": [],
   "source": [
    "# Dynamic Typing : when we not tell the data type of variable \n",
    "a = 5 \n",
    "\n",
    "\n",
    "# static typing : when we tell the data type of variable\n",
    "\n",
    "# int a = 5\n",
    "\n",
    "\n",
    "\n",
    "\n"
   ]
  },
  {
   "cell_type": "code",
   "execution_count": null,
   "id": "f50496dd",
   "metadata": {},
   "outputs": [
    {
     "name": "stdout",
     "output_type": "stream",
     "text": [
      "5\n",
      "nitesh\n"
     ]
    }
   ],
   "source": [
    "#Dynamic Binding \n",
    "\n",
    "a = 5 \n",
    "print(a)\n",
    "a = 'nitesh'\n",
    "\n",
    "print(a)\n",
    "\n",
    "\n",
    "# static Binding\n",
    "\n",
    "# int a = 5"
   ]
  },
  {
   "cell_type": "code",
   "execution_count": 15,
   "id": "d827e0d3",
   "metadata": {},
   "outputs": [
    {
     "name": "stdout",
     "output_type": "stream",
     "text": [
      "1 2 3\n"
     ]
    }
   ],
   "source": [
    "a = 1\n",
    "b=2\n",
    "c=3\n",
    "print(a,b,c)"
   ]
  },
  {
   "cell_type": "code",
   "execution_count": 16,
   "id": "61e44be7",
   "metadata": {},
   "outputs": [],
   "source": [
    "a,b,c = 1,2,3"
   ]
  },
  {
   "cell_type": "code",
   "execution_count": 17,
   "id": "45d7844c",
   "metadata": {},
   "outputs": [],
   "source": [
    "a=b=c = 5"
   ]
  },
  {
   "cell_type": "code",
   "execution_count": 18,
   "id": "29724f8a",
   "metadata": {},
   "outputs": [
    {
     "name": "stdout",
     "output_type": "stream",
     "text": [
      "8.6\n"
     ]
    }
   ],
   "source": [
    "#Implicit \n",
    "print(4+4.6)"
   ]
  },
  {
   "cell_type": "code",
   "execution_count": null,
   "id": "0e691e69",
   "metadata": {},
   "outputs": [
    {
     "name": "stdout",
     "output_type": "stream",
     "text": [
      "<class 'int'>\n"
     ]
    },
    {
     "ename": "ValueError",
     "evalue": "invalid literal for int() with base 10: 'hii'",
     "output_type": "error",
     "traceback": [
      "\u001b[1;31m---------------------------------------------------------------------------\u001b[0m",
      "\u001b[1;31mValueError\u001b[0m                                Traceback (most recent call last)",
      "Cell \u001b[1;32mIn[21], line 6\u001b[0m\n\u001b[0;32m      2\u001b[0m a \u001b[38;5;241m=\u001b[39m \u001b[38;5;28mint\u001b[39m(\u001b[38;5;241m3.4\u001b[39m)\n\u001b[0;32m      4\u001b[0m \u001b[38;5;28mprint\u001b[39m(\u001b[38;5;28mtype\u001b[39m(a))\n\u001b[1;32m----> 6\u001b[0m \u001b[38;5;28mprint\u001b[39m(\u001b[38;5;28;43mint\u001b[39;49m\u001b[43m(\u001b[49m\u001b[38;5;124;43m\"\u001b[39;49m\u001b[38;5;124;43mhii\u001b[39;49m\u001b[38;5;124;43m\"\u001b[39;49m\u001b[43m)\u001b[49m)\n",
      "\u001b[1;31mValueError\u001b[0m: invalid literal for int() with base 10: 'hii'"
     ]
    }
   ],
   "source": [
    "#explicit\n",
    "a = int(3.4)\n",
    "\n",
    "print(type(a))\n"
   ]
  },
  {
   "cell_type": "code",
   "execution_count": 27,
   "id": "4ec24875",
   "metadata": {},
   "outputs": [
    {
     "name": "stdout",
     "output_type": "stream",
     "text": [
      "11\n"
     ]
    },
    {
     "data": {
      "text/plain": [
       "str"
      ]
     },
     "execution_count": 27,
     "metadata": {},
     "output_type": "execute_result"
    }
   ],
   "source": [
    "fnum = input(\"enter num \") \n",
    "snum = input(\"sec num \")\n",
    "\n",
    "result  = int(fnum) + int(snum)\n",
    "print(result)\n",
    "type(fnum)"
   ]
  },
  {
   "cell_type": "code",
   "execution_count": null,
   "id": "d7ee5c42",
   "metadata": {},
   "outputs": [],
   "source": [
    "# Literals - value assign to the variable called literals \n",
    "\n",
    "a = 0b1010 #Binary Literals\n",
    "\n",
    "b = 100 # Decimal Literal \n",
    "\n",
    "c = 0o34 #Octal Literals\n",
    "\n",
    "d = 0x12c # Hexadecimal Literal"
   ]
  },
  {
   "cell_type": "code",
   "execution_count": 29,
   "id": "9371a12a",
   "metadata": {},
   "outputs": [
    {
     "name": "stdout",
     "output_type": "stream",
     "text": [
      "0.0 3.12\n"
     ]
    }
   ],
   "source": [
    "float_1 = 10.5\n",
    "float_2 = 1.5e2 # 1.5 *10^2\n",
    "complex12 = 3.12j\n",
    "\n",
    "print(complex12.real,complex12.imag)"
   ]
  },
  {
   "cell_type": "code",
   "execution_count": 31,
   "id": "5dda3a5d",
   "metadata": {},
   "outputs": [
    {
     "name": "stdout",
     "output_type": "stream",
     "text": [
      "a: 6\n",
      "b: 10\n"
     ]
    }
   ],
   "source": [
    "a = True + 5\n",
    "b = False + 10 \n",
    "\n",
    "print(\"a:\" ,a)\n",
    "print(\"b:\",b)"
   ]
  },
  {
   "cell_type": "code",
   "execution_count": 32,
   "id": "52e0342b",
   "metadata": {},
   "outputs": [],
   "source": [
    "a = None"
   ]
  },
  {
   "cell_type": "code",
   "execution_count": null,
   "id": "af963602",
   "metadata": {},
   "outputs": [],
   "source": []
  }
 ],
 "metadata": {
  "kernelspec": {
   "display_name": "Python 3",
   "language": "python",
   "name": "python3"
  },
  "language_info": {
   "codemirror_mode": {
    "name": "ipython",
    "version": 3
   },
   "file_extension": ".py",
   "mimetype": "text/x-python",
   "name": "python",
   "nbconvert_exporter": "python",
   "pygments_lexer": "ipython3",
   "version": "3.9.10"
  }
 },
 "nbformat": 4,
 "nbformat_minor": 5
}
