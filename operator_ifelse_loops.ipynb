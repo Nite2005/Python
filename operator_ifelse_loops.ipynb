{
 "cells": [
  {
   "cell_type": "code",
   "execution_count": 1,
   "id": "1e1695d5",
   "metadata": {},
   "outputs": [
    {
     "name": "stdout",
     "output_type": "stream",
     "text": [
      "10\n",
      "-1\n",
      "45\n",
      "2.5\n",
      "2\n",
      "1\n",
      "25\n"
     ]
    }
   ],
   "source": [
    "#Arithmetic Operators\n",
    "print(5+5)\n",
    "print(5-6)\n",
    "print(5*9)\n",
    "print(5/2)\n",
    "print(5//2)\n",
    "print(5%2)\n",
    "print(5**2)#power of 2\n"
   ]
  },
  {
   "cell_type": "code",
   "execution_count": 2,
   "id": "4a808e85",
   "metadata": {},
   "outputs": [
    {
     "name": "stdout",
     "output_type": "stream",
     "text": [
      "False\n",
      "True\n",
      "False\n",
      "True\n",
      "True\n"
     ]
    }
   ],
   "source": [
    "#Relational Operator\n",
    "print(4>5)\n",
    "print(4<5)\n",
    "print(4>=5)\n",
    "print(4<=5)\n",
    "print(4!=3)"
   ]
  },
  {
   "cell_type": "code",
   "execution_count": 3,
   "id": "3c2a1783",
   "metadata": {},
   "outputs": [
    {
     "name": "stdout",
     "output_type": "stream",
     "text": [
      "0\n",
      "1\n",
      "False\n"
     ]
    }
   ],
   "source": [
    "#Logical Operator\n",
    "\n",
    "print(1 and 0)\n",
    "print(1 or 0)\n",
    "print(not 1)"
   ]
  },
  {
   "cell_type": "code",
   "execution_count": null,
   "id": "34e1527d",
   "metadata": {},
   "outputs": [
    {
     "name": "stdout",
     "output_type": "stream",
     "text": [
      "2\n",
      "3\n",
      "1\n"
     ]
    }
   ],
   "source": [
    "# Bitwise operator\n",
    "\n",
    "#Bitwise and\n",
    "print(2 & 3)\n",
    "\n",
    "\n",
    "#bitwise or\n",
    "print(2|3)\n",
    "\n",
    "#bitwise xor\n",
    "print(2^3)\n",
    "\n",
    "#bitwise tild\n",
    "print(~3)\n",
    "\n",
    "# bitwise right shift \n",
    "\n",
    "print(4>>2)\n",
    "\n",
    "#bitwise left shift\n",
    "print(4<<2)\n"
   ]
  },
  {
   "cell_type": "code",
   "execution_count": 8,
   "id": "0e0ce1d4",
   "metadata": {},
   "outputs": [
    {
     "name": "stdout",
     "output_type": "stream",
     "text": [
      "0\n"
     ]
    }
   ],
   "source": [
    "#Assignment Operators \n",
    "a = 2\n",
    "a+=2\n",
    "a-=2\n",
    "a*=2\n",
    "a%=2\n",
    "print(a)\n"
   ]
  },
  {
   "cell_type": "code",
   "execution_count": 10,
   "id": "3215ad0f",
   "metadata": {},
   "outputs": [
    {
     "name": "stdout",
     "output_type": "stream",
     "text": [
      "True\n",
      "False\n"
     ]
    }
   ],
   "source": [
    "#Membership operator\n",
    "\n",
    "#in/not in \n",
    "\n",
    "print('D' in 'Delhi')\n",
    "\n",
    "print('D' not in 'Dog')"
   ]
  },
  {
   "cell_type": "code",
   "execution_count": 11,
   "id": "de290fa3",
   "metadata": {},
   "outputs": [
    {
     "data": {
      "text/plain": [
       "12.0"
      ]
     },
     "execution_count": 11,
     "metadata": {},
     "output_type": "execute_result"
    }
   ],
   "source": [
    "#find the sum of a 3 digit numbered entered by the user \n",
    "\n",
    "n1 = float(input(\"Enter the 3 digit  number\"))\n",
    "\n",
    "sum = 0\n",
    "while(n1>0):\n",
    "\n",
    "    digit = n1%10\n",
    "    sum = sum+digit\n",
    "    n1 = n1//10\n",
    "\n",
    "\n",
    "sum \n"
   ]
  },
  {
   "cell_type": "code",
   "execution_count": 14,
   "id": "bd2a6c63",
   "metadata": {},
   "outputs": [
    {
     "name": "stdout",
     "output_type": "stream",
     "text": [
      "Incorrect Password\n",
      "welcome\n"
     ]
    }
   ],
   "source": [
    "# if-else in python\n",
    "\n",
    "e = \"nitesh@gmail.com\"\n",
    "p = 1234\n",
    "\n",
    "email = input(\"enter email \")\n",
    "password = int(input(\"Enter password\"))\n",
    "\n",
    "\n",
    "\n",
    "if email == e and password == p :\n",
    "    print(\"Welcome\")\n",
    "elif email == e and password !=p:\n",
    "    print('Incorrect Password')\n",
    "    password = input(\"enter password again\")\n",
    "    if password == '1234':\n",
    "        print('welcome')\n",
    "    else :\n",
    "        print('tum sa na ho payega ')\n",
    "else:\n",
    "    print(\"Not correct\")"
   ]
  },
  {
   "cell_type": "code",
   "execution_count": 15,
   "id": "a05e5df4",
   "metadata": {},
   "outputs": [
    {
     "name": "stdout",
     "output_type": "stream",
     "text": [
      "a is smallest\n"
     ]
    }
   ],
   "source": [
    "# find the min of 3 given number \n",
    "a =int(input(\"first num\"))\n",
    "b = int(input(\"second num\"))\n",
    "c = int(input(\"third num\"))\n",
    "\n",
    "\n",
    "if a<b and a<c:\n",
    "    print(\"a is smallest\")\n",
    "elif b<c:\n",
    "    print(\"b is smallest\")\n",
    "else:\n",
    "    print(\"c is smallest \")"
   ]
  },
  {
   "cell_type": "code",
   "execution_count": 17,
   "id": "33084fa0",
   "metadata": {},
   "outputs": [
    {
     "name": "stdout",
     "output_type": "stream",
     "text": [
      "3\n"
     ]
    }
   ],
   "source": [
    "#menu driven calculator \n",
    "\n",
    "fnum = int(input(\"enter the 1st number \"))\n",
    "snum = int(input(\"enter the second number \"))\n",
    "\n",
    "\n",
    "op = input('Enter the operation')\n",
    "\n",
    "if op == '+':\n",
    "    print(fnum+snum)\n",
    "elif op=='-':\n",
    "    print(fnum-snum)\n",
    "elif op == '*':\n",
    "    print(fnum*snum)\n",
    "else:\n",
    "    print(\"Thanku for visiting \")"
   ]
  },
  {
   "cell_type": "code",
   "execution_count": 18,
   "id": "58431ec5",
   "metadata": {},
   "outputs": [],
   "source": [
    "# # Modules in python \n",
    "\n",
    "# Math\n",
    "# keyword\n",
    "# constant\n",
    "# random"
   ]
  },
  {
   "cell_type": "code",
   "execution_count": 19,
   "id": "40a3ba2f",
   "metadata": {},
   "outputs": [
    {
     "data": {
      "text/plain": [
       "14.0"
      ]
     },
     "execution_count": 19,
     "metadata": {},
     "output_type": "execute_result"
    }
   ],
   "source": [
    "#math\n",
    "import math \n",
    "\n",
    "\n",
    "math.sqrt(196)"
   ]
  },
  {
   "cell_type": "code",
   "execution_count": 20,
   "id": "e869b985",
   "metadata": {},
   "outputs": [
    {
     "data": {
      "text/plain": [
       "['False',\n",
       " 'None',\n",
       " 'True',\n",
       " '__peg_parser__',\n",
       " 'and',\n",
       " 'as',\n",
       " 'assert',\n",
       " 'async',\n",
       " 'await',\n",
       " 'break',\n",
       " 'class',\n",
       " 'continue',\n",
       " 'def',\n",
       " 'del',\n",
       " 'elif',\n",
       " 'else',\n",
       " 'except',\n",
       " 'finally',\n",
       " 'for',\n",
       " 'from',\n",
       " 'global',\n",
       " 'if',\n",
       " 'import',\n",
       " 'in',\n",
       " 'is',\n",
       " 'lambda',\n",
       " 'nonlocal',\n",
       " 'not',\n",
       " 'or',\n",
       " 'pass',\n",
       " 'raise',\n",
       " 'return',\n",
       " 'try',\n",
       " 'while',\n",
       " 'with',\n",
       " 'yield']"
      ]
     },
     "execution_count": 20,
     "metadata": {},
     "output_type": "execute_result"
    }
   ],
   "source": [
    "import keyword\n",
    "keyword.kwlist"
   ]
  },
  {
   "cell_type": "code",
   "execution_count": 21,
   "id": "2363be31",
   "metadata": {},
   "outputs": [
    {
     "name": "stdout",
     "output_type": "stream",
     "text": [
      "3\n"
     ]
    }
   ],
   "source": [
    "#random\n",
    "import random\n",
    "print(random.randint(1,100))"
   ]
  },
  {
   "cell_type": "code",
   "execution_count": 22,
   "id": "f2c5c563",
   "metadata": {},
   "outputs": [
    {
     "name": "stdout",
     "output_type": "stream",
     "text": [
      "2025-06-22 16:33:33.961143\n"
     ]
    }
   ],
   "source": [
    "import datetime\n",
    "\n",
    "print(datetime.datetime.now())"
   ]
  },
  {
   "cell_type": "code",
   "execution_count": 23,
   "id": "4aef5f05",
   "metadata": {},
   "outputs": [
    {
     "name": "stdout",
     "output_type": "stream",
     "text": [
      "\n",
      "Please wait a moment while I gather a list of all available modules...\n",
      "\n"
     ]
    },
    {
     "name": "stderr",
     "output_type": "stream",
     "text": [
      "c:\\Users\\hp\\AppData\\Local\\Programs\\Python\\Python39\\lib\\site-packages\\tqdm\\auto.py:21: TqdmWarning: IProgress not found. Please update jupyter and ipywidgets. See https://ipywidgets.readthedocs.io/en/stable/user_install.html\n",
      "  from .autonotebook import tqdm as notebook_tqdm\n",
      "c:\\Users\\hp\\AppData\\Local\\Programs\\Python\\Python39\\lib\\site-packages\\nltk\\twitter\\__init__.py:20: UserWarning: The twython library has not been installed. Some functionality from the twitter package will not be available.\n",
      "  warnings.warn(\n",
      "c:\\Users\\hp\\AppData\\Local\\Programs\\Python\\Python39\\lib\\pkgutil.py:93: UserWarning: The numpy.array_api submodule is still experimental. See NEP 47.\n",
      "  __import__(info.name)\n",
      "c:\\Users\\hp\\AppData\\Local\\Programs\\Python\\Python39\\lib\\site-packages\\pydantic\\experimental\\__init__.py:7: PydanticExperimentalWarning:\n",
      "\n",
      "This module is experimental, its contents are subject to change and deprecation.\n",
      "\n",
      "2025-06-22 16:35:13.018 WARNING streamlit.runtime.scriptrunner_utils.script_run_context: Thread 'MainThread': missing ScriptRunContext! This warning can be ignored when running in bare mode.\n"
     ]
    },
    {
     "name": "stdout",
     "output_type": "stream",
     "text": [
      "IPython             clang               multidict           struct\n",
      "MySQLdb             click               multiprocess        subprocess\n",
      "PIL                 cloudpathlib        multiprocessing     sunau\n",
      "__future__          cmath               murmurhash          symbol\n",
      "_abc                cmd                 mysql               symtable\n",
      "_aix_support        code                mysqlx              sys\n",
      "_ast                codecs              namex               sysconfig\n",
      "_asyncio            codeop              narwhals            tabnanny\n",
      "_bisect             collections         nest_asyncio        tarfile\n",
      "_blake2             colorama            netbios             telnetlib\n",
      "_bootlocale         colorsys            netrc               tempfile\n",
      "_bootsubprocess     comm                nltk                tenacity\n",
      "_bz2                commctrl            nntplib             tensorboard\n",
      "_codecs             compileall          nt                  tensorboard_data_server\n",
      "_codecs_cn          comtypes            ntpath              tensorboard_plugin_wit\n",
      "_codecs_hk          concurrent          ntsecuritycon       tensorflow\n",
      "_codecs_iso2022     confection          nturl2path          tensorflow_estimator\n",
      "_codecs_jp          configparser        numbers             tensorflow_io_gcs_filesystem\n",
      "_codecs_kr          contextlib          numpy               termcolor\n",
      "_codecs_tw          contextvars         oauthlib            test\n",
      "_collections        contourpy           odbc                tests\n",
      "_collections_abc    copy                opcode              text_unidecode\n",
      "_compat_pickle      copyreg             operator            textwrap\n",
      "_compression        crypt               opt_einsum          thinc\n",
      "_contextvars        csv                 optparse            this\n",
      "_csv                ctypes              optree              threading\n",
      "_ctypes             curses              os                  threadpoolctl\n",
      "_ctypes_test        cv2                 packaging           time\n",
      "_datetime           cycler              pandas              timeit\n",
      "_decimal            cymem               parser              timer\n",
      "_distutils_hack     dataclasses         parso               tkinter\n",
      "_elementtree        datasets            pasta               token\n",
      "_functools          datetime            pathlib             tokenize\n",
      "_hashlib            dateutil            pdb                 tokenizers\n",
      "_heapq              dbm                 perfmon             toml\n",
      "_imp                dde                 pickle              tornado\n",
      "_io                 debugpy             pickletools         tqdm\n",
      "_json               decimal             pip                 trace\n",
      "_locale             decorator           pipes               traceback\n",
      "_lsprof             difflib             pkg_resources       tracemalloc\n",
      "_lzma               dill                pkgutil             traitlets\n",
      "_markupbase         dis                 platform            transformers\n",
      "_md5                distutils           platformdirs        tty\n",
      "_msi                doctest             plistlib            turtle\n",
      "_multibytecodec     email               plotly              turtledemo\n",
      "_multiprocess       encodings           poplib              typer\n",
      "_multiprocessing    ensurepip           posixpath           types\n",
      "_mysql_connector    enum                pprint              typing\n",
      "_opcode             errno               preshed             typing_extensions\n",
      "_operator           exceptiongroup      profile             tzdata\n",
      "_osx_support        executing           prompt_toolkit      unicodedata\n",
      "_overlapped         faulthandler        propcache           unittest\n",
      "_peg_parser         filecmp             pstats              urllib\n",
      "_pickle             fileinput           psutil              urllib3\n",
      "_plotly_future_     filelock            pty                 uu\n",
      "_plotly_utils       flask               pure_eval           uuid\n",
      "_py_abc             flatbuffers         py_compile          venv\n",
      "_pydecimal          fnmatch             pyarrow             warnings\n",
      "_pyio               fontTools           pyasn1              wasabi\n",
      "_queue              formatter           pyasn1_modules      watchdog\n",
      "_random             fractions           pyaudio             wave\n",
      "_sha1               frozenlist          pyclbr              wcwidth\n",
      "_sha256             fsspec              pydantic            weakref\n",
      "_sha3               ftplib              pydantic_core       weasel\n",
      "_sha512             functools           pydeck              webbrowser\n",
      "_signal             gast                pydoc               webencodings\n",
      "_sitebuiltins       gc                  pydoc_data          werkzeug\n",
      "_socket             genericpath         pyexpat             wheel\n",
      "_sqlite3            getopt              pygments            win2kras\n",
      "_sre                getpass             pylab               win32api\n",
      "_ssl                gettext             pyparsing           win32clipboard\n",
      "_stat               git                 python_version      win32com\n",
      "_statistics         gitdb               pythoncom           win32con\n",
      "_string             glob                pyttsx3             win32console\n",
      "_strptime           google_auth_oauthlib pytz                win32cred\n",
      "_struct             graphlib            pywin               win32crypt\n",
      "_symtable           grpc                pywin32_bootstrap   win32cryptcon\n",
      "_testbuffer         gzip                pywin32_testutil    win32event\n",
      "_testcapi           h5py                pywintypes          win32evtlog\n",
      "_testconsole        hashlib             queue               win32evtlogutil\n",
      "_testimportmultiple heapq               quopri              win32file\n",
      "_testinternalcapi   hmac                random              win32gui\n",
      "_testmultiphase     html                rasutil             win32gui_struct\n",
      "_thread             http                re                  win32help\n",
      "_threading_local    huggingface_hub     referencing         win32inet\n",
      "_tkinter            idlelib             regcheck            win32inetcon\n",
      "_tracemalloc        idna                regex               win32job\n",
      "_uuid               imaplib             regutil             win32lz\n",
      "_warnings           imghdr              reprlib             win32net\n",
      "_weakref            imp                 requests            win32netcon\n",
      "_weakrefset         importlib           requests_oauthlib   win32pdh\n",
      "_win32sysloader     importlib_metadata  rich                win32pdhquery\n",
      "_win32verstamp_pywin32ctypes importlib_resources rlcompleter         win32pdhutil\n",
      "_winapi             inspect             rpds                win32pipe\n",
      "_winxptheme         io                  rsa                 win32print\n",
      "_xxsubinterpreters  ipaddress           runpy               win32process\n",
      "_yaml               ipykernel           safetensors         win32profile\n",
      "_zoneinfo           ipykernel_launcher  sched               win32ras\n",
      "abc                 isapi               scipy               win32rcparser\n",
      "absl                itertools           seaborn             win32security\n",
      "adodbapi            itsdangerous        secrets             win32service\n",
      "afxres              jedi                select              win32serviceutil\n",
      "aifc                jinja2              selectors           win32timezone\n",
      "aiohappyeyeballs    joblib              servicemanager      win32trace\n",
      "aiohttp             json                setuptools          win32traceutil\n",
      "aiosignal           jsonschema          shellingham         win32transaction\n",
      "altair              jsonschema_specifications shelve              win32ts\n",
      "annotated_types     jupyter             shlex               win32ui\n",
      "antigravity         jupyter_client      shutil              win32uiole\n",
      "argparse            jupyter_core        signal              win32verstamp\n",
      "array               kaggle              site                win32wnet\n",
      "ast                 keras               six                 winerror\n",
      "asttokens           keras_preprocessing sklearn             winioctlcon\n",
      "astunparse          keyword             slugify             winnt\n",
      "async_timeout       kiwisolver          smart_open          winperf\n",
      "asynchat            langcodes           smmap               winreg\n",
      "asyncio             language_data       smtpd               winsound\n",
      "asyncore            lib2to3             smtplib             winxpgui\n",
      "atexit              linecache           sndhdr              winxptheme\n",
      "attr                locale              socket              wordcloud\n",
      "attrs               logging             socketserver        wrapt\n",
      "audioop             lzma                spacy               wsgiref\n",
      "base64              mailbox             spacy_legacy        xdrlib\n",
      "bdb                 mailcap             spacy_loggers       xgboost\n",
      "binascii            marisa_trie         speech_recognition  xml\n",
      "binhex              markdown            sqlite3             xmlrpc\n",
      "bisect              markdown_it         sre_compile         xxhash\n",
      "bleach              markupsafe          sre_constants       xxsubtype\n",
      "blinker             marshal             sre_parse           yaml\n",
      "blis                math                srsly               yarl\n",
      "builtins            matplotlib          ssl                 zipapp\n",
      "bz2                 matplotlib_inline   sspi                zipfile\n",
      "cProfile            mdurl               sspicon             zipimport\n",
      "cachetools          mimetypes           stack_data          zipp\n",
      "calendar            ml_dtypes           start_pythonwin     zlib\n",
      "catalogue           mmap                stat                zmq\n",
      "certifi             mmapfile            statistics          zoneinfo\n",
      "cgi                 mmsystem            streamlit           ~-mpy\n",
      "cgitb               modulefinder        streamlit_option_menu ~atplotlib\n",
      "charset_normalizer  msilib              string              ~umpy\n",
      "chunk               msvcrt              stringprep          \n",
      "\n",
      "Enter any module name to get more help.  Or, type \"modules spam\" to search\n",
      "for modules whose name or summary contain the string \"spam\".\n",
      "\n"
     ]
    }
   ],
   "source": [
    "help('modules') # it will give all the modules present in python "
   ]
  },
  {
   "cell_type": "code",
   "execution_count": 25,
   "id": "8eebba79",
   "metadata": {},
   "outputs": [
    {
     "name": "stdout",
     "output_type": "stream",
     "text": [
      "5\n",
      "10\n",
      "15\n",
      "20\n",
      "25\n",
      "30\n",
      "35\n",
      "40\n",
      "45\n",
      "50\n"
     ]
    }
   ],
   "source": [
    "# Loops in python \n",
    "\n",
    "# while loop\n",
    "\n",
    "num = int(input(\"enter the number \"))\n",
    "i = 1\n",
    "while i<=10:\n",
    "    print(num*i)\n",
    "    i=i+1\n",
    "    \n"
   ]
  },
  {
   "cell_type": "code",
   "execution_count": 26,
   "id": "b9120310",
   "metadata": {},
   "outputs": [
    {
     "name": "stdout",
     "output_type": "stream",
     "text": [
      "1\n",
      "2\n",
      "limit crossed\n"
     ]
    }
   ],
   "source": [
    "# while loop with else \n",
    "\n",
    "x = 1\n",
    "\n",
    "while x<3:\n",
    "    print(x)\n",
    "    x+=1\n",
    "else:\n",
    "    print(\"limit crossed\")"
   ]
  },
  {
   "cell_type": "code",
   "execution_count": 32,
   "id": "f6814ad6",
   "metadata": {},
   "outputs": [
    {
     "name": "stdout",
     "output_type": "stream",
     "text": [
      "11\n",
      "You won the game, u guess the correct number \n",
      "attempts 1\n"
     ]
    }
   ],
   "source": [
    "#Guessing game \n",
    "\n",
    "# generate a random integer between 1 and 100 \n",
    "\n",
    "import random \n",
    "\n",
    "jackpot = random.randint(1,100)\n",
    "print(jackpot)\n",
    "guess_num = int(input('guess karo '))\n",
    "\n",
    "counter  = 1\n",
    "while(True):\n",
    "\n",
    "    if guess_num == jackpot : \n",
    "        print('You won the game, u guess the correct number ')\n",
    "        print('attempts',counter)\n",
    "        break\n",
    "    elif guess_num < jackpot:\n",
    "        print('wrong ! guess higher then this ')\n",
    "    else: \n",
    "        print('wrong! guesst the lower then this num ')\n",
    "\n",
    "    guess_num = int(input(\"Enter num again!\"))\n",
    "    counter+=1"
   ]
  },
  {
   "cell_type": "code",
   "execution_count": 39,
   "id": "1285fc90",
   "metadata": {},
   "outputs": [
    {
     "name": "stdout",
     "output_type": "stream",
     "text": [
      "1\n",
      "2\n",
      "3\n",
      "4\n",
      "5\n",
      "6\n",
      "7\n",
      "8\n",
      "9\n",
      "10\n",
      "khatam\n",
      "1\n",
      "3\n",
      "5\n",
      "7\n",
      "9\n",
      "kaahatam\n",
      "10\n",
      "9\n",
      "8\n",
      "7\n",
      "6\n",
      "5\n",
      "4\n",
      "3\n",
      "2\n",
      "1\n",
      "kahaatam\n"
     ]
    }
   ],
   "source": [
    "for i in range(1,11):\n",
    "    print(i)\n",
    "print('khatam')\n",
    "\n",
    "for i in range(1,11,2):\n",
    "    print(i)\n",
    "print('kaahatam')\n",
    "\n",
    "for i in range(10,0,-1):\n",
    "    print(i)\n",
    "\n",
    "print('kahaatam')"
   ]
  },
  {
   "cell_type": "code",
   "execution_count": null,
   "id": "4e551f8d",
   "metadata": {},
   "outputs": [],
   "source": [
    "# the current population  of a town is 10000. \n",
    "# the population of the town is increasing at the rate of 10% per year . \n",
    "# you have to write a program to find out the population at the end of each of the last 10 years / "
   ]
  },
  {
   "cell_type": "code",
   "execution_count": 1,
   "id": "7cd83186",
   "metadata": {},
   "outputs": [
    {
     "name": "stdout",
     "output_type": "stream",
     "text": [
      "10 10000\n",
      "9 9090.90909090909\n",
      "8 8264.462809917353\n",
      "7 7513.148009015775\n",
      "6 6830.134553650703\n",
      "5 6209.213230591548\n",
      "4 5644.739300537771\n",
      "3 5131.5811823070635\n",
      "2 4665.07380209733\n",
      "1 4240.976183724845\n"
     ]
    }
   ],
   "source": [
    "curr_pop = 10000\n",
    "\n",
    "for  i in range(10,0 ,-1):\n",
    "    print(i, curr_pop)\n",
    "    curr_pop = curr_pop/1.1"
   ]
  },
  {
   "cell_type": "code",
   "execution_count": 3,
   "id": "ac7e5e79",
   "metadata": {},
   "outputs": [
    {
     "name": "stdout",
     "output_type": "stream",
     "text": [
      "2.0\n"
     ]
    }
   ],
   "source": [
    "n  = int(input(\"enter n\"))\n",
    "\n",
    "result = 0\n",
    "fact = 1\n",
    "for i in range(1,n+1):\n",
    "    fact = fact * i\n",
    "    result = result + i/fact\n",
    "\n",
    "print(result)\n"
   ]
  },
  {
   "cell_type": "code",
   "execution_count": 4,
   "id": "5134d176",
   "metadata": {},
   "outputs": [],
   "source": [
    "## Pattern"
   ]
  },
  {
   "cell_type": "code",
   "execution_count": 5,
   "id": "a765c4ac",
   "metadata": {},
   "outputs": [
    {
     "name": "stdout",
     "output_type": "stream",
     "text": [
      "1 1\n",
      "1 2\n",
      "1 3\n",
      "1 4\n",
      "2 1\n",
      "2 2\n",
      "2 3\n",
      "2 4\n",
      "3 1\n",
      "3 2\n",
      "3 3\n",
      "3 4\n",
      "4 1\n",
      "4 2\n",
      "4 3\n",
      "4 4\n"
     ]
    }
   ],
   "source": [
    "# unique pairs\n",
    "\n",
    "for i in range(1,5):\n",
    "    for j in range(1,5):\n",
    "        print(i,j)"
   ]
  },
  {
   "cell_type": "code",
   "execution_count": 11,
   "id": "e2ebbe32",
   "metadata": {},
   "outputs": [
    {
     "name": "stdout",
     "output_type": "stream",
     "text": [
      "*\n",
      "\n",
      "**\n",
      "\n",
      "***\n",
      "\n",
      "****\n",
      "\n"
     ]
    }
   ],
   "source": [
    "n = int(input(\"Enter n\"))\n",
    "\n",
    "for i in range(1,n+1):\n",
    "    for j in range(1,i+1):\n",
    "        print(\"*\",end='')\n",
    "    print('\\n')"
   ]
  },
  {
   "cell_type": "code",
   "execution_count": null,
   "id": "2b906477",
   "metadata": {},
   "outputs": [],
   "source": []
  }
 ],
 "metadata": {
  "kernelspec": {
   "display_name": "Python 3",
   "language": "python",
   "name": "python3"
  },
  "language_info": {
   "codemirror_mode": {
    "name": "ipython",
    "version": 3
   },
   "file_extension": ".py",
   "mimetype": "text/x-python",
   "name": "python",
   "nbconvert_exporter": "python",
   "pygments_lexer": "ipython3",
   "version": "3.9.10"
  }
 },
 "nbformat": 4,
 "nbformat_minor": 5
}
