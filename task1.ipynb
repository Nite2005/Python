{
  "cells": [
    {
      "cell_type": "markdown",
      "metadata": {
        "id": "A05OG15VqOPF"
      },
      "source": [
        "# Task : Session 1\n",
        "Solve these questions own your own and try to test yourself what you have learned in the session.\n",
        "\n",
        "Happy Learning!"
      ]
    },
    {
      "cell_type": "markdown",
      "metadata": {
        "id": "2doIXf8bqe9_"
      },
      "source": [
        "### Q1 :- Print the given strings as per stated format.\n",
        "\n",
        "**Given strings**:\n",
        "```\n",
        "\"Data\" \"Science\" \"Mentorship\" \"Program\"\n",
        "\"By\" \"CampusX\"\n",
        "```\n",
        "**Output**:\n",
        "```\n",
        "Data-Science-Mentorship-Program-started-By-CampusX\n",
        "```\n",
        "\n",
        "Concept- [Seperator and End]"
      ]
    },
    {
      "cell_type": "code",
      "execution_count": 1,
      "metadata": {
        "id": "-em6d3KErDtp"
      },
      "outputs": [
        {
          "name": "stdout",
          "output_type": "stream",
          "text": [
            "Data-Science-Mentorship-Program-By-CampusX\n"
          ]
        }
      ],
      "source": [
        "# Write your code here\n",
        "\n",
        "print(\"Data\",\"Science\",\"Mentorship\",\"Program\",\"By\",\"CampusX\",sep='-')\n"
      ]
    },
    {
      "cell_type": "markdown",
      "metadata": {
        "id": "1KUpN7ZTrC3_"
      },
      "source": [
        "### Q2:- Write a program that will convert celsius value to fahrenheit."
      ]
    },
    {
      "cell_type": "code",
      "execution_count": 2,
      "metadata": {
        "id": "yxKYhYQiqWfj"
      },
      "outputs": [
        {
          "data": {
            "text/plain": [
              "122.0"
            ]
          },
          "execution_count": 2,
          "metadata": {},
          "output_type": "execute_result"
        }
      ],
      "source": [
        "# Write your code here\n",
        "\n",
        "cel = int(input(\"Enter celsius value: \"))\n",
        "\n",
        "far = (cel*9/5)+32\n",
        "\n",
        "far"
      ]
    },
    {
      "cell_type": "markdown",
      "metadata": {
        "id": "RLrOBBJurLB2"
      },
      "source": [
        "### Q3:- Take 2 numbers as input from the user.Write a program to swap the numbers without using any special python syntax."
      ]
    },
    {
      "cell_type": "code",
      "execution_count": 5,
      "metadata": {
        "id": "yPn7if0TrJ4F"
      },
      "outputs": [
        {
          "name": "stdout",
          "output_type": "stream",
          "text": [
            "first number is :  2\n",
            "second number is:  1\n"
          ]
        }
      ],
      "source": [
        "# Write your code here\n",
        "num_1  = int(input(\"Enter first number :\"))\n",
        "num_2 = int(input(\"Enter second number \"))\n",
        "\n",
        "#method 1 \n",
        "\n",
        "temp = num_1\n",
        "num_1 = num_2\n",
        "num_2 = temp\n",
        "\n",
        "# #method 2 \n",
        "\n",
        "# num_1 = num_1+ num_2\n",
        "# num_2 = num_1 - num_2\n",
        "# num_1 = num_1 - num_2\n",
        "\n",
        "\n",
        "##method 3 \n",
        "# num_1 = num_1 ^ num_2\n",
        "# num_2 = num_1 ^ num_2\n",
        "# num_1 = num_1 ^ num_2\n",
        "print(\"first number is : \",num_1)\n",
        "print(\"second number is: \",num_2)"
      ]
    },
    {
      "cell_type": "markdown",
      "metadata": {
        "id": "waLCP1bjr7ML"
      },
      "source": [
        "### Q4:- Write a program to find the euclidean distance between two coordinates.Take both the coordinates from the user as input."
      ]
    },
    {
      "cell_type": "code",
      "execution_count": 6,
      "metadata": {
        "id": "Pl1Sv-xnrxnH"
      },
      "outputs": [
        {
          "name": "stdout",
          "output_type": "stream",
          "text": [
            "Euclidean Distance 14.142135623730951\n"
          ]
        }
      ],
      "source": [
        "# Write your code here\n",
        "\n",
        "\n",
        "from math import sqrt \n",
        "\n",
        "x1 = float(input(\"enter first coordinate of x\"))\n",
        "x2 = float(input(\"enter second coordinate of x\"))\n",
        "y1 = float(input(\"enter first coordinate of y\"))\n",
        "y2 = float(input(\"enter second coordinate of y\"))\n",
        "\n",
        "\n",
        "dis = sqrt((x2-x1)*(x2-x1)+(y2-y1)*(y2-y1))\n",
        "\n",
        "print(\"Euclidean Distance\",dis)"
      ]
    },
    {
      "cell_type": "markdown",
      "metadata": {
        "id": "VLrhg-FRsHjR"
      },
      "source": [
        "### Q5:- Write a program to find the simple interest when the value of principle,rate of interest and time period is provided by the user.\n"
      ]
    },
    {
      "cell_type": "code",
      "execution_count": 7,
      "metadata": {
        "id": "s40DlReZsTmY"
      },
      "outputs": [
        {
          "name": "stdout",
          "output_type": "stream",
          "text": [
            "simple interest is :  0.24\n"
          ]
        }
      ],
      "source": [
        "# Write your code here\n",
        "p = float(input(\"enter principle value\"))\n",
        "r = float(input(\"enter rate value\"))\n",
        "t = float(input(\"enter time\"))\n",
        "\n",
        "si = (p*r*t)/100\n",
        "\n",
        "print(\"simple interest is : \", si)"
      ]
    },
    {
      "cell_type": "markdown",
      "metadata": {
        "id": "LMy0BTUktYKa"
      },
      "source": [
        "### Q6:- Write a program that will tell the number of dogs and chicken are there when the user will provide the value of total heads and legs.\n",
        "\n",
        "For example:\n",
        "Input:\n",
        "heads -> 4\n",
        "legs -> 12\n",
        "<br>\n",
        "Output:\n",
        "dogs -> 2\n",
        "chicken -> 2\n",
        "\n",
        "\n",
        "\n"
      ]
    },
    {
      "cell_type": "code",
      "execution_count": 9,
      "metadata": {
        "id": "XSBvJoA4tXaG"
      },
      "outputs": [
        {
          "name": "stdout",
          "output_type": "stream",
          "text": [
            "dogs :  2.0\n",
            "chicken :  2.0\n"
          ]
        }
      ],
      "source": [
        "heads = int(input(\"enter num of heads\"))\n",
        "legs = int(input(\"enter num of legs \"))\n",
        "\n",
        "dogs =( legs - 2*heads )/2\n",
        "chicken = (heads-dogs)\n",
        "\n",
        "print(\"dogs : \",dogs)\n",
        "print(\"chicken : \",chicken)"
      ]
    },
    {
      "cell_type": "markdown",
      "metadata": {
        "id": "gJ7C5kZYt4BP"
      },
      "source": [
        "### Q7:- Write a program to find the sum of squares of first n natural numbers where n will be provided by the user."
      ]
    },
    {
      "cell_type": "code",
      "execution_count": 10,
      "metadata": {
        "id": "_tHsmEHzt2nX"
      },
      "outputs": [
        {
          "name": "stdout",
          "output_type": "stream",
          "text": [
            "Sum of square :  14.0\n"
          ]
        }
      ],
      "source": [
        "# Write your code here\n",
        "\n",
        "n = int(input(\"enter number\"))\n",
        "\n",
        "result  = (n*(n+1)*(2*n+1))/6\n",
        "\n",
        "print(\"Sum of square : \",result)\n",
        "\n"
      ]
    },
    {
      "cell_type": "markdown",
      "metadata": {
        "id": "FHrMM7g-yG1h"
      },
      "source": [
        "### Q8:- Given the first 2 terms of an Arithmetic Series.Find the Nth term of the series. Assume all inputs are provided by the user."
      ]
    },
    {
      "cell_type": "code",
      "execution_count": 11,
      "metadata": {
        "id": "go4_kmZmyVSx"
      },
      "outputs": [
        {
          "name": "stdout",
          "output_type": "stream",
          "text": [
            "first term 1\n",
            "arithmetic series: Second term   3\n"
          ]
        }
      ],
      "source": [
        "# Write your code here\n",
        "\n",
        "a = int(input(\"enter first term\"))\n",
        "d = int(input(\"enter the difference\"))\n",
        "\n",
        "print(\"first term\",a)\n",
        "print(\"arithmetic series: Second term  \", a+d)"
      ]
    },
    {
      "cell_type": "code",
      "execution_count": null,
      "metadata": {},
      "outputs": [],
      "source": []
    },
    {
      "cell_type": "markdown",
      "metadata": {
        "id": "QgyRX_es1oum"
      },
      "source": [
        "### Q9:- Given 2 fractions, find the sum of those 2 fractions.Take the numerator and denominator values of the fractions from the user."
      ]
    },
    {
      "cell_type": "code",
      "execution_count": null,
      "metadata": {
        "id": "X05xqFS1yW16"
      },
      "outputs": [
        {
          "name": "stdout",
          "output_type": "stream",
          "text": [
            "your sum is :  4.5\n"
          ]
        }
      ],
      "source": [
        "\n",
        "frac1_num = float(input(\"Enter num of frac1\"))\n",
        "frac1_den = float(input(\"Enter den of frac1\"))\n",
        "\n",
        "frac2_num = float(input(\"Enter num of frac2\"))\n",
        "frac2_den = float(input(\"Enter den of frac2\"))\n",
        "\n",
        "\n",
        "def lcm(a,b):\n",
        "    if a>b:\n",
        "        greater = a\n",
        "    else:\n",
        "        greater = b\n",
        "    \n",
        "    while(True):\n",
        "        if (greater%a==0) and (greater%b==0):\n",
        "            result = greater\n",
        "            break\n",
        "        greater+=1\n",
        "    \n",
        "    return result\n",
        "\n",
        "\n",
        "\n",
        "ans =((lcm(frac1_den,frac2_den)/frac1_den)*frac1_num + (lcm(frac1_den,frac2_den)/frac2_den)*frac2_num)/lcm(frac1_den,frac2_den)\n",
        "\n",
        "print(\"your sum is : \", ans)"
      ]
    },
    {
      "cell_type": "markdown",
      "metadata": {
        "id": "eaql38ln13u7"
      },
      "source": [
        "### Q10:- Given the height, width and breadth of a milk tank, you have to find out how many glasses of milk can be obtained? Assume all the inputs are provided by the user.\n",
        "\n",
        "\n",
        "\n",
        "Input:<br>\n",
        "Dimensions of the milk tank<br>\n",
        "H = 20cm, L = 20cm, B = 20cm\n",
        "<br><br>\n",
        "Dimensions of the glass<br>\n",
        "h = 3cm, r = 1cm"
      ]
    },
    {
      "cell_type": "code",
      "execution_count": null,
      "metadata": {
        "id": "FePZqno74eWv"
      },
      "outputs": [
        {
          "name": "stdout",
          "output_type": "stream",
          "text": [
            "Num of glasses of milk can be obtained  849\n"
          ]
        }
      ],
      "source": [
        "\n",
        "\n",
        "H = int(input(\"enter the height\"))\n",
        "L = int(input(\"enter the length of the milk tank \"))\n",
        "B = int(input(\"Enter the breadth of the milk  tank \"))\n",
        "h = int(input(\"Enter the height of the glass\"))\n",
        "r = int(input(\"enter the radius of the glass\"))\n",
        "volume = H*L*B\n",
        "\n",
        "volume_of_glass = 3.14*r*r*h\n",
        "result = int(volume/volume_of_glass)\n",
        "\n",
        "print(\"Num of glasses of milk can be obtained \",result)"
      ]
    },
    {
      "cell_type": "code",
      "execution_count": null,
      "metadata": {},
      "outputs": [],
      "source": []
    }
  ],
  "metadata": {
    "colab": {
      "provenance": []
    },
    "kernelspec": {
      "display_name": "Python 3",
      "name": "python3"
    },
    "language_info": {
      "codemirror_mode": {
        "name": "ipython",
        "version": 3
      },
      "file_extension": ".py",
      "mimetype": "text/x-python",
      "name": "python",
      "nbconvert_exporter": "python",
      "pygments_lexer": "ipython3",
      "version": "3.9.10"
    }
  },
  "nbformat": 4,
  "nbformat_minor": 0
}
