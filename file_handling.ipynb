{
 "cells": [
  {
   "cell_type": "code",
   "execution_count": 2,
   "id": "e174be3b",
   "metadata": {},
   "outputs": [],
   "source": [
    "with open('output.txt','w') as file:\n",
    "    file.write(\"Hello,This is Nitesh\\n\")\n",
    "    file.write(\"This is python.\\n\")"
   ]
  },
  {
   "cell_type": "code",
   "execution_count": 3,
   "id": "2d621b61",
   "metadata": {},
   "outputs": [],
   "source": [
    "lines = [\"Line 1\\n\", \"Line 2\\n\", \"Line 3\\n\"]\n",
    "with open('output.txt', 'w') as file:\n",
    "    file.writelines(lines)\n"
   ]
  },
  {
   "cell_type": "code",
   "execution_count": 5,
   "id": "3bca422b",
   "metadata": {},
   "outputs": [],
   "source": [
    "with open('output.txt','a') as file:\n",
    "    file.write(\"Niteh new line appended\")"
   ]
  },
  {
   "cell_type": "code",
   "execution_count": 13,
   "id": "8252b1c5",
   "metadata": {},
   "outputs": [],
   "source": [
    "with open('output.txt','w') as file:\n",
    "    file.write(\"file me text write ho gya\\n\")\n",
    "    file.write(\"Hi I am nitesh , on 3rd july I will give Interview in amplework software company \")\n",
    "    "
   ]
  },
  {
   "cell_type": "code",
   "execution_count": 14,
   "id": "966f75bb",
   "metadata": {},
   "outputs": [
    {
     "name": "stdout",
     "output_type": "stream",
     "text": [
      "file me text write ho gya\n",
      "Hi I am nitesh , on 3rd july I will give Interview in amplework software company \n"
     ]
    }
   ],
   "source": [
    "with open('output.txt','r') as file:\n",
    "    print(file.read())"
   ]
  },
  {
   "cell_type": "code",
   "execution_count": null,
   "id": "8ba5d561",
   "metadata": {},
   "outputs": [
    {
     "name": "stdout",
     "output_type": "stream",
     "text": [
      "file me text write ho gya\n",
      "\n",
      "Hi I am nitesh , on 3rd july I will give Interview in amplework software company \n",
      "[]\n"
     ]
    }
   ],
   "source": [
    "with open('output.txt','r') as file:\n",
    "    print(file.readline())\n",
    "    print(file.readline())"
   ]
  },
  {
   "cell_type": "code",
   "execution_count": 20,
   "id": "5b478f25",
   "metadata": {},
   "outputs": [
    {
     "name": "stdout",
     "output_type": "stream",
     "text": [
      "['file me text write ho gya\\n', 'Hi I am nitesh , on 3rd july I will give Interview in amplework software company ']\n",
      "\n",
      "file me text write ho gya\n",
      "Hi I am nitesh , on 3rd july I will give Interview in amplework software company\n"
     ]
    }
   ],
   "source": [
    "with open('output.txt','r') as file:\n",
    "    lines = file.readlines()\n",
    "    print(lines)\n",
    "    print()\n",
    "    for line in lines:\n",
    "        print(line.strip())"
   ]
  },
  {
   "cell_type": "code",
   "execution_count": 28,
   "id": "15d95211",
   "metadata": {},
   "outputs": [
    {
     "name": "stdout",
     "output_type": "stream",
     "text": [
      "Python is awesome programming language\n",
      "38\n"
     ]
    }
   ],
   "source": [
    "with open(\"output.txt\",\"w+\") as file:\n",
    "    file.write(\"Python is awesome programming language\")\n",
    "    file.seek(0) # Move pointer back to start\n",
    "\n",
    "    print(file.read())\n",
    "    print(file.tell())"
   ]
  },
  {
   "cell_type": "code",
   "execution_count": 26,
   "id": "0c7a3ad8",
   "metadata": {},
   "outputs": [
    {
     "name": "stdout",
     "output_type": "stream",
     "text": [
      "ython is awesome programming language\n"
     ]
    }
   ],
   "source": [
    "with open(\"output.txt\",\"w+\") as file:\n",
    "    file.write(\"Python is awesome programming language\")\n",
    "    file.seek(1) # Move pointer back to start\n",
    "\n",
    "    print(file.read())"
   ]
  },
  {
   "cell_type": "code",
   "execution_count": null,
   "id": "702a43ba",
   "metadata": {},
   "outputs": [],
   "source": []
  },
  {
   "cell_type": "code",
   "execution_count": null,
   "id": "4811ade7",
   "metadata": {},
   "outputs": [],
   "source": []
  }
 ],
 "metadata": {
  "kernelspec": {
   "display_name": "Python 3",
   "language": "python",
   "name": "python3"
  },
  "language_info": {
   "codemirror_mode": {
    "name": "ipython",
    "version": 3
   },
   "file_extension": ".py",
   "mimetype": "text/x-python",
   "name": "python",
   "nbconvert_exporter": "python",
   "pygments_lexer": "ipython3",
   "version": "3.9.10"
  }
 },
 "nbformat": 4,
 "nbformat_minor": 5
}
